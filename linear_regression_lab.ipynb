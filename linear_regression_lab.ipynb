{
  "cells": [
    {
      "cell_type": "markdown",
      "metadata": {
        "id": "0kLi97HLDt5Q"
      },
      "source": [
        "# Assign 2: Linear Regression Lab\n",
        "\n",
        "In this first lab you will fit a linear regression model. You will also dig deeper by 'training' a linear regression model manually in a few different ways.\n",
        "\n",
        "You might be wondering, \"*why all the excitement about linear regression?*\"  It so happens that regression is one of the workhorses of machine learning, and it also underlies other more complex types of models.  The advantage of regression models is that they are highly interpretable and very stable when it comes to training/fitting. In fact, linear regression models, particularly multiple linear regression with many input predictors, can mimic a lot of the power of more complex models, such as neural networks, while maintaining their computational stability and interpretability. There is a long running joke/meme about companies that claim to use \"machine learning\" actually use linear regression (and logistic regression, which we'll soon see more of). This isn't entirely a joke though since even if a company is using very powerful/complex types of models (e.g. deep neural networks), they will almost always have already tried using a linear regression model because it would be the cheaper and faster solution.  In other words, linear regression is almost always the default modeling approach, and is sometimes hard to beat!\n",
        "\n",
        "*Note that this notebook uses some content from a [course at NYU](https://cims.nyu.edu/~brenden/courses/labincp/labs/LabReg-IntroToRegression.html), which itself borrowed content from [General Assembly's Data Science](https://github.com/justmarkham/DAT4) course, which claims to have adapted materials one of the most authoratative texts on the subject, [An Introduction to Statistical Learning](http://www-bcf.usc.edu/~gareth/ISL/).*\n",
        "\n",
        "\n",
        "Next, we would typically load the Python libraries/modules that we'll use. However, these have been commented because we will load each module individually just before we use it, so that we can start to understand which modules does what."
      ]
    },
    {
      "cell_type": "code",
      "execution_count": null,
      "metadata": {
        "id": "N61NoOvKDt5R"
      },
      "outputs": [],
      "source": [
        "#from IPython.core.display import HTML, Markdown #, display\n",
        "#from sklearn import linear_model\n",
        "#import numpy.random as npr\n",
        "#import numpy as np\n",
        "#import pandas as pd\n",
        "#import seaborn as sns\n",
        "#import matplotlib.pyplot as plt\n",
        "#import scipy.stats as stats\n",
        "#import statsmodels.formula.api as smf\n",
        "#import ipywidgets as widgets"
      ]
    },
    {
      "cell_type": "markdown",
      "metadata": {
        "id": "g_klV2HXDt5S"
      },
      "source": [
        "We are going to use the [statsmodels](https://www.statsmodels.org/stable/index.html) python package to fit our regression model because it has a lot of nice outputs which are helpful for interpreting regressions.  However, you could do almost all of the same using the [scikit-learn](https://scikit-learn.org/stable/) package, which is a more general package for machine learning than can perform various types of sophisticated regression, classification, clustering, and dimensionality reduction steps."
      ]
    },
    {
      "cell_type": "markdown",
      "metadata": {
        "id": "qxLtEQgcDt5S"
      },
      "source": [
        "## Loading the dataset\n",
        "\n",
        "Before training/fitting any model we need data. Below we will load a dataset from the text, [Learning Statistics with R](https://kpu.pressbooks.pub/learningstatistics/). The dataset will help us to explore the factors that lead to a parent being grumpy after having a baby.\n",
        "\n",
        "The data is located in a public github repository but loading will be no different than if it were a local file in our computer. We simply use the link to the file and open it with the [pandas](https://pandas.pydata.org) Python module `read_csv` command.\n",
        "\n",
        "Also, let's look at the first few rows of data. Note that one row can be thought of as one *observation*."
      ]
    },
    {
      "cell_type": "code",
      "execution_count": 1,
      "metadata": {
        "id": "KmZSRRuiDt5S",
        "outputId": "075fd564-dec3-49e5-b176-173930aa7035",
        "colab": {
          "base_uri": "https://localhost:8080/",
          "height": 206
        }
      },
      "outputs": [
        {
          "output_type": "execute_result",
          "data": {
            "text/plain": [
              "   day  parent_sleep  baby_sleep  parent_grumpy\n",
              "0    1          7.59       10.18             56\n",
              "1    2          7.91       11.66             60\n",
              "2    3          5.14        7.92             82\n",
              "3    4          7.71        9.61             55\n",
              "4    5          6.68        9.75             67"
            ],
            "text/html": [
              "\n",
              "  <div id=\"df-b46f478f-f7e9-4009-b972-35dd4ee71b3b\" class=\"colab-df-container\">\n",
              "    <div>\n",
              "<style scoped>\n",
              "    .dataframe tbody tr th:only-of-type {\n",
              "        vertical-align: middle;\n",
              "    }\n",
              "\n",
              "    .dataframe tbody tr th {\n",
              "        vertical-align: top;\n",
              "    }\n",
              "\n",
              "    .dataframe thead th {\n",
              "        text-align: right;\n",
              "    }\n",
              "</style>\n",
              "<table border=\"1\" class=\"dataframe\">\n",
              "  <thead>\n",
              "    <tr style=\"text-align: right;\">\n",
              "      <th></th>\n",
              "      <th>day</th>\n",
              "      <th>parent_sleep</th>\n",
              "      <th>baby_sleep</th>\n",
              "      <th>parent_grumpy</th>\n",
              "    </tr>\n",
              "  </thead>\n",
              "  <tbody>\n",
              "    <tr>\n",
              "      <th>0</th>\n",
              "      <td>1</td>\n",
              "      <td>7.59</td>\n",
              "      <td>10.18</td>\n",
              "      <td>56</td>\n",
              "    </tr>\n",
              "    <tr>\n",
              "      <th>1</th>\n",
              "      <td>2</td>\n",
              "      <td>7.91</td>\n",
              "      <td>11.66</td>\n",
              "      <td>60</td>\n",
              "    </tr>\n",
              "    <tr>\n",
              "      <th>2</th>\n",
              "      <td>3</td>\n",
              "      <td>5.14</td>\n",
              "      <td>7.92</td>\n",
              "      <td>82</td>\n",
              "    </tr>\n",
              "    <tr>\n",
              "      <th>3</th>\n",
              "      <td>4</td>\n",
              "      <td>7.71</td>\n",
              "      <td>9.61</td>\n",
              "      <td>55</td>\n",
              "    </tr>\n",
              "    <tr>\n",
              "      <th>4</th>\n",
              "      <td>5</td>\n",
              "      <td>6.68</td>\n",
              "      <td>9.75</td>\n",
              "      <td>67</td>\n",
              "    </tr>\n",
              "  </tbody>\n",
              "</table>\n",
              "</div>\n",
              "    <div class=\"colab-df-buttons\">\n",
              "\n",
              "  <div class=\"colab-df-container\">\n",
              "    <button class=\"colab-df-convert\" onclick=\"convertToInteractive('df-b46f478f-f7e9-4009-b972-35dd4ee71b3b')\"\n",
              "            title=\"Convert this dataframe to an interactive table.\"\n",
              "            style=\"display:none;\">\n",
              "\n",
              "  <svg xmlns=\"http://www.w3.org/2000/svg\" height=\"24px\" viewBox=\"0 -960 960 960\">\n",
              "    <path d=\"M120-120v-720h720v720H120Zm60-500h600v-160H180v160Zm220 220h160v-160H400v160Zm0 220h160v-160H400v160ZM180-400h160v-160H180v160Zm440 0h160v-160H620v160ZM180-180h160v-160H180v160Zm440 0h160v-160H620v160Z\"/>\n",
              "  </svg>\n",
              "    </button>\n",
              "\n",
              "  <style>\n",
              "    .colab-df-container {\n",
              "      display:flex;\n",
              "      gap: 12px;\n",
              "    }\n",
              "\n",
              "    .colab-df-convert {\n",
              "      background-color: #E8F0FE;\n",
              "      border: none;\n",
              "      border-radius: 50%;\n",
              "      cursor: pointer;\n",
              "      display: none;\n",
              "      fill: #1967D2;\n",
              "      height: 32px;\n",
              "      padding: 0 0 0 0;\n",
              "      width: 32px;\n",
              "    }\n",
              "\n",
              "    .colab-df-convert:hover {\n",
              "      background-color: #E2EBFA;\n",
              "      box-shadow: 0px 1px 2px rgba(60, 64, 67, 0.3), 0px 1px 3px 1px rgba(60, 64, 67, 0.15);\n",
              "      fill: #174EA6;\n",
              "    }\n",
              "\n",
              "    .colab-df-buttons div {\n",
              "      margin-bottom: 4px;\n",
              "    }\n",
              "\n",
              "    [theme=dark] .colab-df-convert {\n",
              "      background-color: #3B4455;\n",
              "      fill: #D2E3FC;\n",
              "    }\n",
              "\n",
              "    [theme=dark] .colab-df-convert:hover {\n",
              "      background-color: #434B5C;\n",
              "      box-shadow: 0px 1px 3px 1px rgba(0, 0, 0, 0.15);\n",
              "      filter: drop-shadow(0px 1px 2px rgba(0, 0, 0, 0.3));\n",
              "      fill: #FFFFFF;\n",
              "    }\n",
              "  </style>\n",
              "\n",
              "    <script>\n",
              "      const buttonEl =\n",
              "        document.querySelector('#df-b46f478f-f7e9-4009-b972-35dd4ee71b3b button.colab-df-convert');\n",
              "      buttonEl.style.display =\n",
              "        google.colab.kernel.accessAllowed ? 'block' : 'none';\n",
              "\n",
              "      async function convertToInteractive(key) {\n",
              "        const element = document.querySelector('#df-b46f478f-f7e9-4009-b972-35dd4ee71b3b');\n",
              "        const dataTable =\n",
              "          await google.colab.kernel.invokeFunction('convertToInteractive',\n",
              "                                                    [key], {});\n",
              "        if (!dataTable) return;\n",
              "\n",
              "        const docLinkHtml = 'Like what you see? Visit the ' +\n",
              "          '<a target=\"_blank\" href=https://colab.research.google.com/notebooks/data_table.ipynb>data table notebook</a>'\n",
              "          + ' to learn more about interactive tables.';\n",
              "        element.innerHTML = '';\n",
              "        dataTable['output_type'] = 'display_data';\n",
              "        await google.colab.output.renderOutput(dataTable, element);\n",
              "        const docLink = document.createElement('div');\n",
              "        docLink.innerHTML = docLinkHtml;\n",
              "        element.appendChild(docLink);\n",
              "      }\n",
              "    </script>\n",
              "  </div>\n",
              "\n",
              "\n",
              "    <div id=\"df-da8b7735-0234-45d8-9e98-986a54d3ce2c\">\n",
              "      <button class=\"colab-df-quickchart\" onclick=\"quickchart('df-da8b7735-0234-45d8-9e98-986a54d3ce2c')\"\n",
              "                title=\"Suggest charts\"\n",
              "                style=\"display:none;\">\n",
              "\n",
              "<svg xmlns=\"http://www.w3.org/2000/svg\" height=\"24px\"viewBox=\"0 0 24 24\"\n",
              "     width=\"24px\">\n",
              "    <g>\n",
              "        <path d=\"M19 3H5c-1.1 0-2 .9-2 2v14c0 1.1.9 2 2 2h14c1.1 0 2-.9 2-2V5c0-1.1-.9-2-2-2zM9 17H7v-7h2v7zm4 0h-2V7h2v10zm4 0h-2v-4h2v4z\"/>\n",
              "    </g>\n",
              "</svg>\n",
              "      </button>\n",
              "\n",
              "<style>\n",
              "  .colab-df-quickchart {\n",
              "      --bg-color: #E8F0FE;\n",
              "      --fill-color: #1967D2;\n",
              "      --hover-bg-color: #E2EBFA;\n",
              "      --hover-fill-color: #174EA6;\n",
              "      --disabled-fill-color: #AAA;\n",
              "      --disabled-bg-color: #DDD;\n",
              "  }\n",
              "\n",
              "  [theme=dark] .colab-df-quickchart {\n",
              "      --bg-color: #3B4455;\n",
              "      --fill-color: #D2E3FC;\n",
              "      --hover-bg-color: #434B5C;\n",
              "      --hover-fill-color: #FFFFFF;\n",
              "      --disabled-bg-color: #3B4455;\n",
              "      --disabled-fill-color: #666;\n",
              "  }\n",
              "\n",
              "  .colab-df-quickchart {\n",
              "    background-color: var(--bg-color);\n",
              "    border: none;\n",
              "    border-radius: 50%;\n",
              "    cursor: pointer;\n",
              "    display: none;\n",
              "    fill: var(--fill-color);\n",
              "    height: 32px;\n",
              "    padding: 0;\n",
              "    width: 32px;\n",
              "  }\n",
              "\n",
              "  .colab-df-quickchart:hover {\n",
              "    background-color: var(--hover-bg-color);\n",
              "    box-shadow: 0 1px 2px rgba(60, 64, 67, 0.3), 0 1px 3px 1px rgba(60, 64, 67, 0.15);\n",
              "    fill: var(--button-hover-fill-color);\n",
              "  }\n",
              "\n",
              "  .colab-df-quickchart-complete:disabled,\n",
              "  .colab-df-quickchart-complete:disabled:hover {\n",
              "    background-color: var(--disabled-bg-color);\n",
              "    fill: var(--disabled-fill-color);\n",
              "    box-shadow: none;\n",
              "  }\n",
              "\n",
              "  .colab-df-spinner {\n",
              "    border: 2px solid var(--fill-color);\n",
              "    border-color: transparent;\n",
              "    border-bottom-color: var(--fill-color);\n",
              "    animation:\n",
              "      spin 1s steps(1) infinite;\n",
              "  }\n",
              "\n",
              "  @keyframes spin {\n",
              "    0% {\n",
              "      border-color: transparent;\n",
              "      border-bottom-color: var(--fill-color);\n",
              "      border-left-color: var(--fill-color);\n",
              "    }\n",
              "    20% {\n",
              "      border-color: transparent;\n",
              "      border-left-color: var(--fill-color);\n",
              "      border-top-color: var(--fill-color);\n",
              "    }\n",
              "    30% {\n",
              "      border-color: transparent;\n",
              "      border-left-color: var(--fill-color);\n",
              "      border-top-color: var(--fill-color);\n",
              "      border-right-color: var(--fill-color);\n",
              "    }\n",
              "    40% {\n",
              "      border-color: transparent;\n",
              "      border-right-color: var(--fill-color);\n",
              "      border-top-color: var(--fill-color);\n",
              "    }\n",
              "    60% {\n",
              "      border-color: transparent;\n",
              "      border-right-color: var(--fill-color);\n",
              "    }\n",
              "    80% {\n",
              "      border-color: transparent;\n",
              "      border-right-color: var(--fill-color);\n",
              "      border-bottom-color: var(--fill-color);\n",
              "    }\n",
              "    90% {\n",
              "      border-color: transparent;\n",
              "      border-bottom-color: var(--fill-color);\n",
              "    }\n",
              "  }\n",
              "</style>\n",
              "\n",
              "      <script>\n",
              "        async function quickchart(key) {\n",
              "          const quickchartButtonEl =\n",
              "            document.querySelector('#' + key + ' button');\n",
              "          quickchartButtonEl.disabled = true;  // To prevent multiple clicks.\n",
              "          quickchartButtonEl.classList.add('colab-df-spinner');\n",
              "          try {\n",
              "            const charts = await google.colab.kernel.invokeFunction(\n",
              "                'suggestCharts', [key], {});\n",
              "          } catch (error) {\n",
              "            console.error('Error during call to suggestCharts:', error);\n",
              "          }\n",
              "          quickchartButtonEl.classList.remove('colab-df-spinner');\n",
              "          quickchartButtonEl.classList.add('colab-df-quickchart-complete');\n",
              "        }\n",
              "        (() => {\n",
              "          let quickchartButtonEl =\n",
              "            document.querySelector('#df-da8b7735-0234-45d8-9e98-986a54d3ce2c button');\n",
              "          quickchartButtonEl.style.display =\n",
              "            google.colab.kernel.accessAllowed ? 'block' : 'none';\n",
              "        })();\n",
              "      </script>\n",
              "    </div>\n",
              "\n",
              "    </div>\n",
              "  </div>\n"
            ],
            "application/vnd.google.colaboratory.intrinsic+json": {
              "type": "dataframe",
              "variable_name": "df",
              "summary": "{\n  \"name\": \"df\",\n  \"rows\": 100,\n  \"fields\": [\n    {\n      \"column\": \"day\",\n      \"properties\": {\n        \"dtype\": \"number\",\n        \"std\": 29,\n        \"min\": 1,\n        \"max\": 100,\n        \"num_unique_values\": 100,\n        \"samples\": [\n          84,\n          54,\n          71\n        ],\n        \"semantic_type\": \"\",\n        \"description\": \"\"\n      }\n    },\n    {\n      \"column\": \"parent_sleep\",\n      \"properties\": {\n        \"dtype\": \"number\",\n        \"std\": 1.0158844283269488,\n        \"min\": 4.84,\n        \"max\": 9.0,\n        \"num_unique_values\": 90,\n        \"samples\": [\n          7.47,\n          6.86,\n          6.22\n        ],\n        \"semantic_type\": \"\",\n        \"description\": \"\"\n      }\n    },\n    {\n      \"column\": \"baby_sleep\",\n      \"properties\": {\n        \"dtype\": \"number\",\n        \"std\": 2.0742318427248527,\n        \"min\": 3.25,\n        \"max\": 12.07,\n        \"num_unique_values\": 88,\n        \"samples\": [\n          9.09,\n          10.18,\n          7.95\n        ],\n        \"semantic_type\": \"\",\n        \"description\": \"\"\n      }\n    },\n    {\n      \"column\": \"parent_grumpy\",\n      \"properties\": {\n        \"dtype\": \"number\",\n        \"std\": 10,\n        \"min\": 41,\n        \"max\": 91,\n        \"num_unique_values\": 37,\n        \"samples\": [\n          59,\n          52,\n          67\n        ],\n        \"semantic_type\": \"\",\n        \"description\": \"\"\n      }\n    }\n  ]\n}"
            }
          },
          "metadata": {},
          "execution_count": 1
        }
      ],
      "source": [
        "import pandas as pd\n",
        "\n",
        "df = pd.read_csv('https://raw.githubusercontent.com/sgeinitz/CS3120/main/lab1_data_parenthood.csv')\n",
        "df.head()"
      ]
    },
    {
      "cell_type": "markdown",
      "metadata": {
        "id": "v_CyqQ0_Dt5T"
      },
      "source": [
        "For this dataset one observation consists of the following fields or columns:\n",
        "\n",
        "* `day` - the day of the baby's life and the day that the observation was made  \n",
        "* `parent_sleep` - number of hours of sleep the parent had the night before this day\n",
        "* `baby_sleep` - number of hours of sleep the baby had the night before this day\n",
        "* `parent_grumpy` - level of grumpiness of the parent on this day (this will be our `Y`, or what we will want to try to predict)\n",
        "\n",
        "To confirm that information, or if we didnt' know it ahead of time, we could use the pandas dataframe method, `describe`, to see some descriptive statistics for each column."
      ]
    },
    {
      "cell_type": "code",
      "execution_count": 3,
      "metadata": {
        "id": "E9XG4pLCDt5T",
        "outputId": "94e81329-f812-4c9e-afb1-cba8e5c05555",
        "colab": {
          "base_uri": "https://localhost:8080/",
          "height": 300
        }
      },
      "outputs": [
        {
          "output_type": "execute_result",
          "data": {
            "text/plain": [
              "              day  parent_sleep  baby_sleep  parent_grumpy\n",
              "count  100.000000    100.000000  100.000000      100.00000\n",
              "mean    50.500000      6.965200    8.049200       63.71000\n",
              "std     29.011492      1.015884    2.074232       10.04967\n",
              "min      1.000000      4.840000    3.250000       41.00000\n",
              "25%     25.750000      6.292500    6.425000       57.00000\n",
              "50%     50.500000      7.030000    7.950000       62.00000\n",
              "75%     75.250000      7.740000    9.635000       71.00000\n",
              "max    100.000000      9.000000   12.070000       91.00000"
            ],
            "text/html": [
              "\n",
              "  <div id=\"df-404c30a6-29e2-4d1d-93a7-3486e59711b5\" class=\"colab-df-container\">\n",
              "    <div>\n",
              "<style scoped>\n",
              "    .dataframe tbody tr th:only-of-type {\n",
              "        vertical-align: middle;\n",
              "    }\n",
              "\n",
              "    .dataframe tbody tr th {\n",
              "        vertical-align: top;\n",
              "    }\n",
              "\n",
              "    .dataframe thead th {\n",
              "        text-align: right;\n",
              "    }\n",
              "</style>\n",
              "<table border=\"1\" class=\"dataframe\">\n",
              "  <thead>\n",
              "    <tr style=\"text-align: right;\">\n",
              "      <th></th>\n",
              "      <th>day</th>\n",
              "      <th>parent_sleep</th>\n",
              "      <th>baby_sleep</th>\n",
              "      <th>parent_grumpy</th>\n",
              "    </tr>\n",
              "  </thead>\n",
              "  <tbody>\n",
              "    <tr>\n",
              "      <th>count</th>\n",
              "      <td>100.000000</td>\n",
              "      <td>100.000000</td>\n",
              "      <td>100.000000</td>\n",
              "      <td>100.00000</td>\n",
              "    </tr>\n",
              "    <tr>\n",
              "      <th>mean</th>\n",
              "      <td>50.500000</td>\n",
              "      <td>6.965200</td>\n",
              "      <td>8.049200</td>\n",
              "      <td>63.71000</td>\n",
              "    </tr>\n",
              "    <tr>\n",
              "      <th>std</th>\n",
              "      <td>29.011492</td>\n",
              "      <td>1.015884</td>\n",
              "      <td>2.074232</td>\n",
              "      <td>10.04967</td>\n",
              "    </tr>\n",
              "    <tr>\n",
              "      <th>min</th>\n",
              "      <td>1.000000</td>\n",
              "      <td>4.840000</td>\n",
              "      <td>3.250000</td>\n",
              "      <td>41.00000</td>\n",
              "    </tr>\n",
              "    <tr>\n",
              "      <th>25%</th>\n",
              "      <td>25.750000</td>\n",
              "      <td>6.292500</td>\n",
              "      <td>6.425000</td>\n",
              "      <td>57.00000</td>\n",
              "    </tr>\n",
              "    <tr>\n",
              "      <th>50%</th>\n",
              "      <td>50.500000</td>\n",
              "      <td>7.030000</td>\n",
              "      <td>7.950000</td>\n",
              "      <td>62.00000</td>\n",
              "    </tr>\n",
              "    <tr>\n",
              "      <th>75%</th>\n",
              "      <td>75.250000</td>\n",
              "      <td>7.740000</td>\n",
              "      <td>9.635000</td>\n",
              "      <td>71.00000</td>\n",
              "    </tr>\n",
              "    <tr>\n",
              "      <th>max</th>\n",
              "      <td>100.000000</td>\n",
              "      <td>9.000000</td>\n",
              "      <td>12.070000</td>\n",
              "      <td>91.00000</td>\n",
              "    </tr>\n",
              "  </tbody>\n",
              "</table>\n",
              "</div>\n",
              "    <div class=\"colab-df-buttons\">\n",
              "\n",
              "  <div class=\"colab-df-container\">\n",
              "    <button class=\"colab-df-convert\" onclick=\"convertToInteractive('df-404c30a6-29e2-4d1d-93a7-3486e59711b5')\"\n",
              "            title=\"Convert this dataframe to an interactive table.\"\n",
              "            style=\"display:none;\">\n",
              "\n",
              "  <svg xmlns=\"http://www.w3.org/2000/svg\" height=\"24px\" viewBox=\"0 -960 960 960\">\n",
              "    <path d=\"M120-120v-720h720v720H120Zm60-500h600v-160H180v160Zm220 220h160v-160H400v160Zm0 220h160v-160H400v160ZM180-400h160v-160H180v160Zm440 0h160v-160H620v160ZM180-180h160v-160H180v160Zm440 0h160v-160H620v160Z\"/>\n",
              "  </svg>\n",
              "    </button>\n",
              "\n",
              "  <style>\n",
              "    .colab-df-container {\n",
              "      display:flex;\n",
              "      gap: 12px;\n",
              "    }\n",
              "\n",
              "    .colab-df-convert {\n",
              "      background-color: #E8F0FE;\n",
              "      border: none;\n",
              "      border-radius: 50%;\n",
              "      cursor: pointer;\n",
              "      display: none;\n",
              "      fill: #1967D2;\n",
              "      height: 32px;\n",
              "      padding: 0 0 0 0;\n",
              "      width: 32px;\n",
              "    }\n",
              "\n",
              "    .colab-df-convert:hover {\n",
              "      background-color: #E2EBFA;\n",
              "      box-shadow: 0px 1px 2px rgba(60, 64, 67, 0.3), 0px 1px 3px 1px rgba(60, 64, 67, 0.15);\n",
              "      fill: #174EA6;\n",
              "    }\n",
              "\n",
              "    .colab-df-buttons div {\n",
              "      margin-bottom: 4px;\n",
              "    }\n",
              "\n",
              "    [theme=dark] .colab-df-convert {\n",
              "      background-color: #3B4455;\n",
              "      fill: #D2E3FC;\n",
              "    }\n",
              "\n",
              "    [theme=dark] .colab-df-convert:hover {\n",
              "      background-color: #434B5C;\n",
              "      box-shadow: 0px 1px 3px 1px rgba(0, 0, 0, 0.15);\n",
              "      filter: drop-shadow(0px 1px 2px rgba(0, 0, 0, 0.3));\n",
              "      fill: #FFFFFF;\n",
              "    }\n",
              "  </style>\n",
              "\n",
              "    <script>\n",
              "      const buttonEl =\n",
              "        document.querySelector('#df-404c30a6-29e2-4d1d-93a7-3486e59711b5 button.colab-df-convert');\n",
              "      buttonEl.style.display =\n",
              "        google.colab.kernel.accessAllowed ? 'block' : 'none';\n",
              "\n",
              "      async function convertToInteractive(key) {\n",
              "        const element = document.querySelector('#df-404c30a6-29e2-4d1d-93a7-3486e59711b5');\n",
              "        const dataTable =\n",
              "          await google.colab.kernel.invokeFunction('convertToInteractive',\n",
              "                                                    [key], {});\n",
              "        if (!dataTable) return;\n",
              "\n",
              "        const docLinkHtml = 'Like what you see? Visit the ' +\n",
              "          '<a target=\"_blank\" href=https://colab.research.google.com/notebooks/data_table.ipynb>data table notebook</a>'\n",
              "          + ' to learn more about interactive tables.';\n",
              "        element.innerHTML = '';\n",
              "        dataTable['output_type'] = 'display_data';\n",
              "        await google.colab.output.renderOutput(dataTable, element);\n",
              "        const docLink = document.createElement('div');\n",
              "        docLink.innerHTML = docLinkHtml;\n",
              "        element.appendChild(docLink);\n",
              "      }\n",
              "    </script>\n",
              "  </div>\n",
              "\n",
              "\n",
              "    <div id=\"df-dbc9eab9-4387-40a7-ad27-be58747e4190\">\n",
              "      <button class=\"colab-df-quickchart\" onclick=\"quickchart('df-dbc9eab9-4387-40a7-ad27-be58747e4190')\"\n",
              "                title=\"Suggest charts\"\n",
              "                style=\"display:none;\">\n",
              "\n",
              "<svg xmlns=\"http://www.w3.org/2000/svg\" height=\"24px\"viewBox=\"0 0 24 24\"\n",
              "     width=\"24px\">\n",
              "    <g>\n",
              "        <path d=\"M19 3H5c-1.1 0-2 .9-2 2v14c0 1.1.9 2 2 2h14c1.1 0 2-.9 2-2V5c0-1.1-.9-2-2-2zM9 17H7v-7h2v7zm4 0h-2V7h2v10zm4 0h-2v-4h2v4z\"/>\n",
              "    </g>\n",
              "</svg>\n",
              "      </button>\n",
              "\n",
              "<style>\n",
              "  .colab-df-quickchart {\n",
              "      --bg-color: #E8F0FE;\n",
              "      --fill-color: #1967D2;\n",
              "      --hover-bg-color: #E2EBFA;\n",
              "      --hover-fill-color: #174EA6;\n",
              "      --disabled-fill-color: #AAA;\n",
              "      --disabled-bg-color: #DDD;\n",
              "  }\n",
              "\n",
              "  [theme=dark] .colab-df-quickchart {\n",
              "      --bg-color: #3B4455;\n",
              "      --fill-color: #D2E3FC;\n",
              "      --hover-bg-color: #434B5C;\n",
              "      --hover-fill-color: #FFFFFF;\n",
              "      --disabled-bg-color: #3B4455;\n",
              "      --disabled-fill-color: #666;\n",
              "  }\n",
              "\n",
              "  .colab-df-quickchart {\n",
              "    background-color: var(--bg-color);\n",
              "    border: none;\n",
              "    border-radius: 50%;\n",
              "    cursor: pointer;\n",
              "    display: none;\n",
              "    fill: var(--fill-color);\n",
              "    height: 32px;\n",
              "    padding: 0;\n",
              "    width: 32px;\n",
              "  }\n",
              "\n",
              "  .colab-df-quickchart:hover {\n",
              "    background-color: var(--hover-bg-color);\n",
              "    box-shadow: 0 1px 2px rgba(60, 64, 67, 0.3), 0 1px 3px 1px rgba(60, 64, 67, 0.15);\n",
              "    fill: var(--button-hover-fill-color);\n",
              "  }\n",
              "\n",
              "  .colab-df-quickchart-complete:disabled,\n",
              "  .colab-df-quickchart-complete:disabled:hover {\n",
              "    background-color: var(--disabled-bg-color);\n",
              "    fill: var(--disabled-fill-color);\n",
              "    box-shadow: none;\n",
              "  }\n",
              "\n",
              "  .colab-df-spinner {\n",
              "    border: 2px solid var(--fill-color);\n",
              "    border-color: transparent;\n",
              "    border-bottom-color: var(--fill-color);\n",
              "    animation:\n",
              "      spin 1s steps(1) infinite;\n",
              "  }\n",
              "\n",
              "  @keyframes spin {\n",
              "    0% {\n",
              "      border-color: transparent;\n",
              "      border-bottom-color: var(--fill-color);\n",
              "      border-left-color: var(--fill-color);\n",
              "    }\n",
              "    20% {\n",
              "      border-color: transparent;\n",
              "      border-left-color: var(--fill-color);\n",
              "      border-top-color: var(--fill-color);\n",
              "    }\n",
              "    30% {\n",
              "      border-color: transparent;\n",
              "      border-left-color: var(--fill-color);\n",
              "      border-top-color: var(--fill-color);\n",
              "      border-right-color: var(--fill-color);\n",
              "    }\n",
              "    40% {\n",
              "      border-color: transparent;\n",
              "      border-right-color: var(--fill-color);\n",
              "      border-top-color: var(--fill-color);\n",
              "    }\n",
              "    60% {\n",
              "      border-color: transparent;\n",
              "      border-right-color: var(--fill-color);\n",
              "    }\n",
              "    80% {\n",
              "      border-color: transparent;\n",
              "      border-right-color: var(--fill-color);\n",
              "      border-bottom-color: var(--fill-color);\n",
              "    }\n",
              "    90% {\n",
              "      border-color: transparent;\n",
              "      border-bottom-color: var(--fill-color);\n",
              "    }\n",
              "  }\n",
              "</style>\n",
              "\n",
              "      <script>\n",
              "        async function quickchart(key) {\n",
              "          const quickchartButtonEl =\n",
              "            document.querySelector('#' + key + ' button');\n",
              "          quickchartButtonEl.disabled = true;  // To prevent multiple clicks.\n",
              "          quickchartButtonEl.classList.add('colab-df-spinner');\n",
              "          try {\n",
              "            const charts = await google.colab.kernel.invokeFunction(\n",
              "                'suggestCharts', [key], {});\n",
              "          } catch (error) {\n",
              "            console.error('Error during call to suggestCharts:', error);\n",
              "          }\n",
              "          quickchartButtonEl.classList.remove('colab-df-spinner');\n",
              "          quickchartButtonEl.classList.add('colab-df-quickchart-complete');\n",
              "        }\n",
              "        (() => {\n",
              "          let quickchartButtonEl =\n",
              "            document.querySelector('#df-dbc9eab9-4387-40a7-ad27-be58747e4190 button');\n",
              "          quickchartButtonEl.style.display =\n",
              "            google.colab.kernel.accessAllowed ? 'block' : 'none';\n",
              "        })();\n",
              "      </script>\n",
              "    </div>\n",
              "\n",
              "    </div>\n",
              "  </div>\n"
            ],
            "application/vnd.google.colaboratory.intrinsic+json": {
              "type": "dataframe",
              "summary": "{\n  \"name\": \"df\",\n  \"rows\": 8,\n  \"fields\": [\n    {\n      \"column\": \"day\",\n      \"properties\": {\n        \"dtype\": \"number\",\n        \"std\": 35.736237144555226,\n        \"min\": 1.0,\n        \"max\": 100.0,\n        \"num_unique_values\": 6,\n        \"samples\": [\n          100.0,\n          50.5,\n          75.25\n        ],\n        \"semantic_type\": \"\",\n        \"description\": \"\"\n      }\n    },\n    {\n      \"column\": \"parent_sleep\",\n      \"properties\": {\n        \"dtype\": \"number\",\n        \"std\": 33.275754474812146,\n        \"min\": 1.0158844283269488,\n        \"max\": 100.0,\n        \"num_unique_values\": 8,\n        \"samples\": [\n          6.965199999999999,\n          7.03,\n          100.0\n        ],\n        \"semantic_type\": \"\",\n        \"description\": \"\"\n      }\n    },\n    {\n      \"column\": \"baby_sleep\",\n      \"properties\": {\n        \"dtype\": \"number\",\n        \"std\": 33.01647807682308,\n        \"min\": 2.0742318427248527,\n        \"max\": 100.0,\n        \"num_unique_values\": 8,\n        \"samples\": [\n          8.049199999999999,\n          7.95,\n          100.0\n        ],\n        \"semantic_type\": \"\",\n        \"description\": \"\"\n      }\n    },\n    {\n      \"column\": \"parent_grumpy\",\n      \"properties\": {\n        \"dtype\": \"number\",\n        \"std\": 28.116476387973886,\n        \"min\": 10.049669575954157,\n        \"max\": 100.0,\n        \"num_unique_values\": 8,\n        \"samples\": [\n          63.71,\n          62.0,\n          100.0\n        ],\n        \"semantic_type\": \"\",\n        \"description\": \"\"\n      }\n    }\n  ]\n}"
            }
          },
          "metadata": {},
          "execution_count": 3
        }
      ],
      "source": [
        "df.describe()"
      ]
    },
    {
      "cell_type": "markdown",
      "metadata": {
        "id": "M8A24HqnDt5T"
      },
      "source": [
        "***\n",
        "### Q1: What does the column `parent_grumpy` look like? What is it's mean? What is it's minimum value? Maximum value? Based on all of that, what do you think the scale of grumpiness is? Is it between 1 and 10? Between -1 and 1?\n",
        "\n",
        "\\< The mean is 63.71, minimum is 41, and the maximum is 91. The scale of grumpiness is between 1 and 10.\\>\n",
        "***"
      ]
    },
    {
      "cell_type": "markdown",
      "metadata": {
        "id": "On60I7uZDt5T"
      },
      "source": [
        "Next, let's look at if or how the columns are related to one another. There are descriptive statistics that we can calculate to do this but typically it's best to simply look at the data and see what it looks like.\n",
        "\n",
        "We'll use the Python module [seaborn](https://seaborn.pydata.org), which is for plotting and visualizing data."
      ]
    },
    {
      "cell_type": "code",
      "execution_count": 4,
      "metadata": {
        "id": "qN-BRg-BDt5U",
        "outputId": "5e042157-81d8-4072-9e73-48632cc3a175",
        "colab": {
          "base_uri": "https://localhost:8080/",
          "height": 467
        }
      },
      "outputs": [
        {
          "output_type": "execute_result",
          "data": {
            "text/plain": [
              "<Axes: xlabel='day', ylabel='parent_grumpy'>"
            ]
          },
          "metadata": {},
          "execution_count": 4
        },
        {
          "output_type": "display_data",
          "data": {
            "text/plain": [
              "<Figure size 640x480 with 1 Axes>"
            ],
            "image/png": "[encoded data removed]"
          },
          "metadata": {}
        }
      ],
      "source": [
        "import seaborn as sns\n",
        "\n",
        "sns.scatterplot(data=df, x='day', y='parent_grumpy')"
      ]
    },
    {
      "cell_type": "markdown",
      "metadata": {
        "id": "btnjvQIKDt5U"
      },
      "source": [
        "***\n",
        "### Q2: Does there appear to be a relationship of any kind between day and how grumpy the parent is? In other words, does a parent's level of grumpiness get better or worse in the first 100 days of baby's life? Is there any type of pattern in how these two variables are related?\n",
        "\n",
        "\\<The parents level of grumpiness doesn't seem to change much overall. The points mostly stay at the 50 - 70 range of parent_grumpy with some points being outside of this range either above or below it. There is no clear better or worse trend over the 100 days, suggesting there is no clear pattern in how these two variables are related.  \\>\n",
        "***"
      ]
    },
    {
      "cell_type": "markdown",
      "metadata": {
        "id": "FsY8EDLuDt5U"
      },
      "source": [
        "Next, let's look at the other fields versus a parent's level of grumpiness. Note that we'll now use the other common Python module for plotting and visualization, matplotlib. This module is lower-level than seaborn which allows us to create multiple plots side by side, and manipulate other small details of plots."
      ]
    },
    {
      "cell_type": "code",
      "execution_count": 5,
      "metadata": {
        "id": "6x58dZoMDt5U",
        "outputId": "ebef0086-089e-4f30-9bc1-85b7138a9915",
        "colab": {
          "base_uri": "https://localhost:8080/",
          "height": 388
        }
      },
      "outputs": [
        {
          "output_type": "display_data",
          "data": {
            "text/plain": [
              "<Figure size 1000x400 with 2 Axes>"
            ],
            "image/png": "[encoded data removed]"
          },
          "metadata": {}
        }
      ],
      "source": [
        "import matplotlib.pyplot as plt\n",
        "\n",
        "#fig, (ax1, ax2, ax3) = plt.subplots(1, 3, figsize=(12, 4))\n",
        "fig, (ax1, ax2) = plt.subplots(1, 2, figsize=(10, 4))\n",
        "sns.scatterplot(data=df, x='baby_sleep', y='parent_grumpy', ax=ax1)\n",
        "sns.scatterplot(data=df, x='parent_sleep', y='parent_grumpy', ax=ax2, color='red')\n",
        "#sns.scatterplot(data=df, x='baby_sleep', y='parent_sleep', ax=ax3, color='red')\n",
        "plt.show()"
      ]
    },
    {
      "cell_type": "markdown",
      "metadata": {
        "id": "nc-4QT49Dt5U"
      },
      "source": [
        "***\n",
        "### Q3: What is the relationship that seems more important here? In other words, which do you think is a more direct cause of a parent being grumpy?\n",
        "\n",
        "\\<The relationship between parent_grumpy and parent_sleep seem to be the more important one. This is because their is a strong clear pattern in the right graph that shows as parents get more sleep their grumpiness decreases. Compared to the left graph the relationship between parent_grumpy and baby_sleep the pattern is weaker with a more scatterd graph that shows even though when a baby gets plenty of sleep a parent can still be grumpy. \\>\n",
        "\n",
        "***"
      ]
    },
    {
      "cell_type": "markdown",
      "metadata": {
        "id": "Bg0GmjOGDt5V"
      },
      "source": [
        "## Simple Linear Regression\n",
        "\n",
        "There is a lot more that could be discussed about which variable drives what, in what order, etc. For now though, let's go ahead and begin fitting a linear regression. As we've seen, simple linear regression is an approach for predicting a **quantitative response** using a **single feature** (or \"predictor\" or \"input variable\"). It takes the following form:\n",
        "\n",
        "$y = \\beta_0 + \\beta_1x \\quad $ or $ \\quad y = b + w x$\n",
        "\n",
        "What does each term represent?\n",
        "- $y$ is the response\n",
        "- $x$ is the feature\n",
        "- $\\beta_0$ is the y-intercept of the line, which we could also call the **bias** parameter, $b$\n",
        "- $\\beta_1$ is the slope of the line or coefficient for x, which we could also call the **weight** parameter, $w$\n",
        "\n",
        "Together, $\\beta_0$ and $\\beta_1$, or $b$ and $w$ are called the **model coefficients**, or **parameters** of the model. To train or fit the model it must \"learn\" the values of these parameters. Once we've learned these coefficients, we can use the model to make predictions!"
      ]
    },
    {
      "cell_type": "markdown",
      "metadata": {
        "id": "e3drJxulDt5V"
      },
      "source": [
        "What do you mean by \"learn\"?  Well you are probably more familiar with the phrase \"fit\" meaning we adjust the settings of the model coefficients (aka as parameters) until the line seems like a good summary of the data.  Fitting thus mean adjusting some internal numbers so that the better reflect the underlying data set.  Well when a human (or machine) learns it, it is in some sense of the same thing.  We change the connections of the weights (or parameters) inside our brains to help us better predict our environment.  For instance if your roommate is prone to late night partying and being grumpy the next day you might mentally fit a model to the experiences you have and \"learn\" what features are predictive of them being grumpy.  So basically fitting a linear regression model is the same as doing basic machine learning! Wow!\n",
        "\n",
        "Before we get into using the computer to \"fit\" our data, let's start simple and do things by hand. Try adjusting the sliders below to get to what you think is a good model fit. As mentioned in class, getting roughly half of the points above the line and half below the line is ideally what we want."
      ]
    },
    {
      "cell_type": "code",
      "execution_count": 6,
      "metadata": {
        "id": "9yF8-YftDt5V",
        "outputId": "75e771b9-2d87-401d-b55c-511d3dfcff0e",
        "colab": {
          "base_uri": "https://localhost:8080/",
          "height": 606,
          "referenced_widgets": [
            "1fc21948139140f0ae2f1cc5af8abfb1",
            "a312a15854344001b07c81968679d5c4",
            "ec8765cb14364a0587df2887c9762d3b",
            "99cf7724100f41a98a0e7447bca63cbb",
            "286c8d9731a24cc3b10db8d586255c3a",
            "fc2f2dfa40b94024b34c0cbdfd52bfae",
            "064ab5d5303a45719ef6bffbf1dbac9a",
            "e7b50caecfe749c7a4d51fd9a693ce36",
            "76a7ebcd3cbd4c7a96985474564b89d0",
            "bd2f327b0f814d4fb5306fd2ce62d99e"
          ]
        }
      },
      "outputs": [
        {
          "output_type": "display_data",
          "data": {
            "text/plain": [
              "interactive(children=(IntSlider(value=0, description='slope', max=20, min=-20), IntSlider(value=50, descriptio…"
            ],
            "application/vnd.jupyter.widget-view+json": {
              "version_major": 2,
              "version_minor": 0,
              "model_id": "1fc21948139140f0ae2f1cc5af8abfb1"
            }
          },
          "metadata": {}
        }
      ],
      "source": [
        "from IPython.core.display import HTML, Markdown\n",
        "import ipywidgets as widgets\n",
        "import numpy as np\n",
        "\n",
        "@widgets.interact(slope=widgets.IntSlider(min=-20, max=20, step=1, value=0), intercept=widgets.IntSlider(min=0, max=200, step=1, value=50))\n",
        "def plot_grumpiness(slope, intercept):\n",
        "    predict = intercept + slope * df.parent_sleep\n",
        "    resid = df.parent_grumpy - predict\n",
        "    fig, ax = plt.subplots(figsize=(9,6))\n",
        "\n",
        "    x1 = np.linspace(df.parent_sleep.min(), df.parent_sleep.max(), 400)\n",
        "    y1 = intercept + slope * x1\n",
        "\n",
        "    ax.plot(df.parent_sleep, df.parent_grumpy, 'ko', markersize=4)\n",
        "\n",
        "    ax.plot(x1, y1, '-', color='steelblue', linewidth=1)\n",
        "    plt.xlabel(\"dad sleep\")\n",
        "    plt.ylabel(\"dad grumpy level\")\n",
        "\n",
        "    plt.show()\n"
      ]
    },
    {
      "cell_type": "markdown",
      "metadata": {
        "id": "WmK-BI03Dt5V"
      },
      "source": [
        "If you used the approach of getting half of the points above the line and half below the line, you probably realized that there are several different ways to acheive this - not all of which make sense. That's why we instead think about fitting a regression model as minimizing all **residuals**. A residual is defined as the difference between the the observation $y$ and the prediction $\\hat{y}$.\n",
        "\n",
        "Specifically, the **residual for the $i^{th}$ observation** in the data is defined as:\n",
        "* $y_i - \\hat{y}_i$\n",
        "\n",
        "The next plot shows what are known as the **residuals** between the actual data points (black) and the regression line (blue). As you can see the total amount of red changes depending on how good of a fit your parameter values give you. Use this widget to make your own *guesstimate* of what the values of $\\beta_0$ and $\\beta_1$ should be.\n"
      ]
    },
    {
      "cell_type": "code",
      "execution_count": 7,
      "metadata": {
        "colab": {
          "base_uri": "https://localhost:8080/",
          "height": 606,
          "referenced_widgets": [
            "62e7f545eac743a7bd01e1f5e95cf657",
            "2695458c20ea4805bdfa4f6a04104b1d",
            "db96faaa15a841eea04c158336895c10",
            "414dddcb7e974ada9e01a817a9d52ef2",
            "6f89474f8e6d4bc5ab9e4199c1ab14dc",
            "370f6ebfe2b2466182649c7011d4a925",
            "3e4f9decf5c045c1a2cf464a708c7907",
            "d34fc20c19c542d59f9f518917271ea5",
            "69069630d0dc42c8ae2769de78e6d1cd",
            "74838cacc9b547fcab5abbbf3f057e9e"
          ]
        },
        "id": "AbAlzLJLDt5V",
        "outputId": "ef534fc1-d806-4a74-e327-55d394d66ab5"
      },
      "outputs": [
        {
          "output_type": "display_data",
          "data": {
            "text/plain": [
              "interactive(children=(IntSlider(value=0, description='slope', max=20, min=-20), IntSlider(value=50, descriptio…"
            ],
            "application/vnd.jupyter.widget-view+json": {
              "version_major": 2,
              "version_minor": 0,
              "model_id": "62e7f545eac743a7bd01e1f5e95cf657"
            }
          },
          "metadata": {}
        }
      ],
      "source": [
        "@widgets.interact(slope=widgets.IntSlider(min=-20, max=20, step=1, value=0), intercept=widgets.IntSlider(min=0, max=200, step=1, value=50))\n",
        "def plot_grumpiness(slope, intercept):\n",
        "    predict = intercept+slope*df.parent_sleep\n",
        "    resid = df.parent_grumpy-predict\n",
        "    fig, ax = plt.subplots(figsize=(9,6))\n",
        "\n",
        "    x1 = np.linspace(df.parent_sleep.min(), df.parent_sleep.max(),400)\n",
        "    y1 = intercept+slope*x1\n",
        "\n",
        "    ax.plot(df.parent_sleep, df.parent_grumpy,'ko',markersize=4)\n",
        "    ax.plot(df.parent_sleep, df.parent_grumpy-resid,'o',markersize=4,markeredgecolor='r', markeredgewidth=.4, markerfacecolor='white')\n",
        "\n",
        "    ax.plot(x1,y1,'-',color='blue',linewidth=1)\n",
        "    plt.xlabel(\"dad sleep\")\n",
        "    plt.ylabel(\"dad grumpiness\")\n",
        "\n",
        "    ax.vlines(df.parent_sleep, df.parent_grumpy, df.parent_grumpy-resid,'r',linewidth=0.5)\n",
        "    plt.show()\n",
        "\n"
      ]
    },
    {
      "cell_type": "markdown",
      "metadata": {
        "id": "phxvja6KDt5V"
      },
      "source": [
        "***\n",
        "### Q4: What values of $\\beta_0$ and $\\beta_1$ result in a good model fit? Is the slope positive or negative? Explain why?\n",
        "\n",
        "\\<For $\\beta_0$ a good fit is around 106 and a good fit for $\\beta_1$ is around -6. The slope is negative because as dads get more sleep the variable dad grumpiness decreases. \\>\n",
        "\n",
        "***"
      ]
    },
    {
      "cell_type": "markdown",
      "metadata": {
        "id": "suY1CNm3Dt5V"
      },
      "source": [
        "## Estimating Model Coefficients (i.e. \"training\" the model)\n",
        "\n",
        "The mechanics of fitting a line to some data, or \"learning\" the model parameter values, or \"training\" the model is better done using a precise method rather than eyeballing it as you did above. Generally speaking, coefficients are estimated using the **least squares criterion**, which means we will find the line (mathematically) which minimizes the **sum of squared residuals** (or \"sum of squared errors\"). This can be summed up in the following graphic.\n",
        "\n",
        "![toyexample](https://cims.nyu.edu/~brenden/courses/labincp/_images/08_estimating_coefficients.png)\n",
        "\n",
        "In the figure above...\n",
        "- the black dots are the **observed values** of x and y,\n",
        "- the blue line is the **least squares line**,\n",
        "- the red lines are the **residuals**, which are the distances between the observed values and the least squares line.\n",
        "\n",
        "Remember, model parameters in the regression model can be interpreted as follows.\n",
        "- $\\beta_0$ is the **intercept** (the value of $y$ when $x$=0)\n",
        "- $\\beta_1$ is the **slope** (the change in $y$ divided by change in $x$)\n",
        "\n",
        "Here is a graphical depiction of those calculations:\n",
        "\n",
        "![toyexample2](https://cims.nyu.edu/~brenden/courses/labincp/_images/08_slope_intercept.png)\n"
      ]
    },
    {
      "cell_type": "markdown",
      "metadata": {
        "id": "gW3NlpQ0Dt5V"
      },
      "source": [
        "To find the best possible parameter values (i.e. to fit or train the model), we want to minimize the sum of squared errors. Note that since $\\hat{y}$ is a function of $\\beta_0$ and $\\beta_1$, then the sum of squared errors can be stated as a function of them (and then minimized). Namely, we want to minimize the following expression with respect to $\\beta_0$ and $\\beta_1$.\n",
        "\n",
        "* $\\sum_{i=1}^{n} (y_i - (\\beta_0 + \\beta_1 x_i))^2$\n",
        "\n",
        "We could manually calculate the values by minimizing the above, but let's first use the [statmodels](https://www.statsmodels.org/stable/install.html) Python package. See how these numbers compare to the values you found in your *guesstimate* above."
      ]
    },
    {
      "cell_type": "code",
      "execution_count": null,
      "metadata": {
        "id": "uGb3ijGrDt5V"
      },
      "outputs": [],
      "source": [
        "import statsmodels.formula.api as smf\n",
        "\n",
        "sm_lm = smf.ols(formula='parent_grumpy ~ parent_sleep', data=df).fit()\n",
        "print(sm_lm.params)"
      ]
    },
    {
      "cell_type": "markdown",
      "metadata": {
        "id": "NKNqRx8CDt5V"
      },
      "source": [
        "A couple of points on how we used `smf` here...\n",
        "* First is that we use the `smf.ols()` function which does an _ordinary least squares_ fit.  This is the type of fit which tries to minimize the sum of the squared residuals.  There are other types of fitting proceedures such as weighted least squares which is used when you expect the variance of the predicted variable to changes with the input predictor as well as its mean value.  We won't worry about those variations of linear regression in this class though.\n",
        "\n",
        "* Second is that we provide the `ols()` function or method with the pandas dataframe we are working with, `df`, and then provide a formula.  The formula expresses our \"_model_\" and is which variables in the data frame we are trying to relate.  Here the formula `parent_grumpy ~ parent_sleep` means that we want to predict `parent_grumpy` values given `parent_sleep` values. So you think of `parent_grumpy` as our \"_y value_\" and `parent_sleep` are our \"_x value_\".\n",
        "\n",
        "\n",
        "Although the **statsmodels** Python module is a powerful and intuitive tool for statistics, and similar to the standard libraries in R, the module that is more common among Data Scientists and Machine Learning practioners is [scikitlearn](https://scikit-learn.org/stable/). We'll use this now. Try to make a note of how the syntax is different between statsmodels and scikitlearn."
      ]
    },
    {
      "cell_type": "code",
      "execution_count": null,
      "metadata": {
        "id": "CSmWZVATDt5V"
      },
      "outputs": [],
      "source": [
        "from sklearn import linear_model\n",
        "\n",
        "lm = linear_model.LinearRegression()\n",
        "lm.fit(df[['parent_sleep']], df['parent_grumpy'])\n",
        "print(lm.coef_, lm.intercept_)"
      ]
    },
    {
      "cell_type": "markdown",
      "metadata": {
        "id": "gXK8pgRGDt5V"
      },
      "source": [
        "It's easy to see that the values of the parameters for both models are the same, but notice the small diffences in the names of usage of them. The **statsmodel** model gives us all of the parameters in attribute `lm.params`.\n",
        "\n",
        "With `scikitlearn`, or `sklearn` above, the model has different attributes for each parameter, `lm.coef_`, `lm.intercept`. Note that `lm.coef` itself is a list though, so if our model was going to have other predictors, i.e. other X variables or inputs, then they would be added to the list, `lm.coef`."
      ]
    },
    {
      "cell_type": "markdown",
      "metadata": {
        "id": "Y6WPYVDWDt5W"
      },
      "source": [
        "## Interpreting the Model\n",
        "\n",
        "One of the biggest advantages of ordinary least squares regression is that it is highly interpretable. By this, we mean to say that it's possible to look at the model parameter values and directly draw some conclusion or interpretion from it.\n",
        "\n",
        "That is, we can directly interpret the `slope` or `weight` parameter associated with `parent_sleep`, according to its value. In this case, with a value of `-8.9`, we can say:\n",
        "\n",
        "- A one \"unit\" increase in hours of sleep is associated with a -8.9367 \"unit\" decrease (because it is negative) in grumpiness. This should kind of make sense once you think about it too, i.e. more sleep = less grumpy!\n",
        "\n",
        "The other parameter in our model, the `intercept` or `bias` term, tells us what the model would predict if `X`, or `parent_sleep` in this case, were zero (0). (You can sort understand why it is referred to a bias term also, since it's the value you would get if you didn't have any information, so it's sort of a presupposed value, or bias.)\n",
        "If `parent_sleep` is zero, then `pare\n",
        "nt_grumpy` would be predicted to be 125.95. This means that if a parent gets no sleep at all their grumpiness will be at a very high level of 125.95!  Bad news."
      ]
    },
    {
      "cell_type": "markdown",
      "metadata": {
        "id": "4Pm04pmfDt5W"
      },
      "source": [
        "***\n",
        "### Q5: Suppose that the _grumpiness_ scale is between 0 and 100. How would you explain or justify the prediction the model would make if a parent did not sleep at all the night before? Or, if they slept only one hour? What does this say about the model, is it a \"good\" or \"bad\" model?\n",
        "\n",
        "\\<input your answer here - and explain \\>\n",
        "\n",
        "***\n",
        "\n",
        "Note that this question is related to a famous saying in Statistics, which is \"*All models are wrong, but some are useful*\". This essentially says that every model has limitations, or is incorrect in some way, but can still make sense and yield useful results when used in the appropriate setting.\n",
        "\n",
        "![image](https://miro.medium.com/v2/resize:fit:1400/1*EJZZKiXLcbp_MxRW9HJrmA.jpeg)"
      ]
    },
    {
      "cell_type": "markdown",
      "metadata": {
        "id": "MyzpSNfQDt5W"
      },
      "source": [
        "## Using the Model for Prediction\n",
        "\n",
        "Once the model has been fit or trained with the training data, we can now use it for predictions. In other words, with just the following equation it is possible to make a prediction for any new value of `x`, i.e. `parent_sleep`.\n",
        "$$y = 125.956292 + -8.936756 \\times x$$"
      ]
    },
    {
      "cell_type": "markdown",
      "metadata": {
        "id": "AzNyjg3_Dt5W"
      },
      "source": [
        "***\n",
        "\n",
        "### Q5: Using only the trained model the parent now wants to make a prediction for tomorrow. Everything is going smooth so they antipicate getting a good night of sleep, or around `8.5` hours of sleep. What will their predicted level of grumpiness be tomorrow?\n",
        "\n",
        "\\<modify the following code cell to find your answer then input your answer here\\>\n",
        "\n",
        "***"
      ]
    },
    {
      "cell_type": "code",
      "execution_count": null,
      "metadata": {
        "id": "dhZcG5izDt5W"
      },
      "outputs": [],
      "source": [
        "hours_of_sleep =\n",
        "X_new = pd.DataFrame({'parent_sleep': [hours_of_sleep]})\n",
        "lm.predict(X_new)"
      ]
    },
    {
      "cell_type": "markdown",
      "metadata": {
        "id": "9ofB_TZnDt5W"
      },
      "source": [
        "## Plotting the least squares regression line\n",
        "\n",
        "Let's take a look at the best fit line.  There are two very easy ways to do this.  One is using seaborn's regplot which takes care of all of the underlying steps to plot the regression line."
      ]
    },
    {
      "cell_type": "code",
      "execution_count": null,
      "metadata": {
        "id": "_L6f3-VjDt5W"
      },
      "outputs": [],
      "source": [
        "sns.regplot(x='parent_sleep', y='parent_grumpy', data=df)"
      ]
    },
    {
      "cell_type": "markdown",
      "metadata": {
        "id": "KcE2QTY7Dt5W"
      },
      "source": [
        "Alternatively, if we want more control over the plot, or want to make other modifications, then using matplotlib is often going to be preferred."
      ]
    },
    {
      "cell_type": "code",
      "execution_count": null,
      "metadata": {
        "id": "1dxRMjzNDt5W"
      },
      "outputs": [],
      "source": [
        "fig, ax = plt.subplots(figsize=(6.5,4))\n",
        "\n",
        "# create a DataFrame with the minimum and maximum values of sleep\n",
        "x1 = pd.DataFrame({'parent_sleep': [df.parent_sleep.min(), df.parent_sleep.max()]})\n",
        "y1 = lm.predict(x1)  # predict for the two data points using the fitted model in lm\n",
        "ax.plot(df.parent_sleep, df.parent_grumpy, 'ko', markersize=4)\n",
        "ax.plot(x1, y1, '-', color='steelblue', linewidth=1)\n",
        "plt.xlabel(\"parent_sleep\")\n",
        "plt.ylabel(\"parent_grumpy\")\n",
        "plt.show()"
      ]
    },
    {
      "cell_type": "markdown",
      "metadata": {
        "id": "6tbD8lVlDt5W"
      },
      "source": [
        "## Confidence in our Model\n",
        "\n",
        "As mentioned before, the **statsmodels** library offers some convience for more traditional statistics questions or tasks. One of those is getting an idea of how confident we are about the estimated values of the parameters. Looking at the confidence intervals for the parameter value estimates gives us a decent idea of whether the model fits this data reasonably well. Below we look at the 95% confidence interval, or the $(1-\\alpha)$% confidence interval.\n",
        "\n",
        "As you can see, although there is a range of possible values, the range is reasonably small, telling us that there is a high level of confidence these parameter values estimates are yielding a model that fits the data reasonably well. We have to be careful not to misinterpret this though, remember that the precise intrepretation of the confidence interval is...\n",
        "\n",
        "* If the population from which this sample was drawn was **sampled 100 times**, approximately **95 of those confidence intervals** would contain the \"true\" coefficient."
      ]
    },
    {
      "cell_type": "code",
      "execution_count": null,
      "metadata": {
        "id": "KVToYYfODt5W"
      },
      "outputs": [],
      "source": [
        "# print the confidence intervals for the model coefficients\n",
        "sm_lm.conf_int(alpha=0.05)"
      ]
    },
    {
      "cell_type": "markdown",
      "metadata": {
        "id": "4yABqWWODt5X"
      },
      "source": [
        "Since the **sklearn** package tends to take more of a machine learning approach it does not have some of the same functionality as statsmodels. However, with a few more steps, it is possible to calculate. It's possible though, and you should verify that the confidence intervals are the same as above."
      ]
    },
    {
      "cell_type": "code",
      "execution_count": null,
      "metadata": {
        "id": "NiHZwBdtDt5X"
      },
      "outputs": [],
      "source": [
        "# needs the stats module for getting appropriate t-values\n",
        "from scipy import stats\n",
        "\n",
        "def get_conf_int(alpha, lr, X, y):\n",
        "    coefs = np.r_[[lr.intercept_], lr.coef_]\n",
        "    X_aux = X.copy()\n",
        "    X_aux.insert(0, 'const', 1)\n",
        "    dof = -np.diff(X_aux.shape)[0]\n",
        "    mse = np.sum((y - lr.predict(X)) ** 2) / dof\n",
        "    var_params = np.diag(np.linalg.inv(X_aux.T.dot(X_aux)))\n",
        "    t_val = stats.t.isf(alpha/2, dof)\n",
        "    gap = t_val * np.sqrt(mse * var_params)\n",
        "\n",
        "    return pd.DataFrame({\n",
        "        'lower': coefs - gap, 'upper': coefs + gap\n",
        "    }, index=X_aux.columns)\n",
        "\n",
        "get_conf_int(0.05, lm, df[['parent_sleep']], df['parent_grumpy'])"
      ]
    },
    {
      "cell_type": "code",
      "execution_count": null,
      "metadata": {
        "id": "HALbqxjmDt5X"
      },
      "outputs": [],
      "source": [
        "np.diff(df.shape)"
      ]
    },
    {
      "cell_type": "markdown",
      "metadata": {
        "id": "334bU2NbDt5X"
      },
      "source": [
        "Again, remember that we only have a **single sample of data**, and not the **entire population of data**. The \"true\" coefficient is either within this interval or it isn't, but there's no way to actually know. We estimate the coefficient with the data we do have, and we show uncertainty about that estimate by giving a range that the coefficient is **probably** within.\n",
        "\n",
        "Also note that using 95% confidence intervals is just a convention. We could create 90% confidence intervals (which will be more narrow), or 99% confidence intervals (which will be wider), or whatever intervals we think make the most sense for our analysis/task."
      ]
    },
    {
      "cell_type": "markdown",
      "metadata": {
        "id": "NH6WUzjlDt5X"
      },
      "source": [
        "## Hypothesis Testing and p-values\n",
        "\n",
        "Closely related to confidence intervals is **hypothesis testing**. Generally speaking, we start with a **null hypothesis** and an **alternative hypothesis** (that is opposite the null). Then, we check whether the data supports **rejecting the null hypothesis** or **failing to reject the null hypothesis**.\n",
        "\n",
        "(Note that \"failing to reject\" the null is not the same as \"accepting\" the null hypothesis. The alternative hypothesis may indeed be true, except that we just don't have enough data to show that.)\n",
        "\n",
        "As it relates to model coefficients, here is the conventional hypothesis test:\n",
        "- **null hypothesis:** There is no relationship between dad sleep and grumpiness (and thus $\\beta_1$ equals zero)\n",
        "- **alternative hypothesis:** There is a relationship between dad sleep and dad grumpinss (and thus $\\beta_1$ is not equal to zero)"
      ]
    },
    {
      "cell_type": "code",
      "execution_count": null,
      "metadata": {
        "id": "q4KaLQvnDt5X"
      },
      "outputs": [],
      "source": [
        "# print the p-values for the model coefficients\n",
        "sm_lm.pvalues"
      ]
    },
    {
      "cell_type": "markdown",
      "metadata": {
        "id": "aOXC1tB6Dt5X"
      },
      "source": [
        "How do we test this hypothesis? Intuitively, we reject the null (and thus believe the alternative) if the 95% confidence interval **does not include zero**. That is generally much easier to intrepret than the p-value, which strictly speaking should be interpreted as follows:\n",
        "* If the null hypothesis is true, then the p-value is probability of observing the data that we did (and thus getting the model parameters that we did).\n",
        "\n",
        "In this case, since the the p-values are both so small, we can likely safely reject the null hypothesis in favor of the alternative.\n",
        "\n",
        "Note that we generally ignore the p-value for the intercept. So, focusing only on the model parameter associated with `parent_sleep`, and seeing a p-value far less than 0.05, we can conclude that there is a relationship between sleep and grumpiness."
      ]
    },
    {
      "cell_type": "markdown",
      "metadata": {
        "id": "e2Mj6uetDt5X"
      },
      "source": [
        "## How Well Does the Model Fit the data?\n",
        "\n",
        "The most common way to evaluate the overall fit of a linear model is by the **R-squared** value. R-squared is calculated in such a way that it has the direct intrepretation of being the **proportion of variance explained**, meaning the proportion of variance in the observed data that is explained by the model, or the reduction in error over the **null model**. (The null model just predicts the mean of the observed response, and thus it has an intercept and no slope.)\n",
        "\n",
        "R-squared is between 0 and 1, and higher is better because it means that more variance is explained by the model. Here's an example of what R-squared might be for different models fit to the same dataset (but a different data than our parenthood data).\n",
        "\n",
        "![polyfits](https://github.com/sgeinitz/CS3120/blob/main/images/poly_fits.png?raw=true)\n",
        "\n",
        "You can see that the **blue line** explains some of the variance in the data (R-squared=0.54), the **green line** explains more of the variance (R-squared=0.64), and the **red line** fits the training data even further (R-squared=0.66). (No need to think about this too hard right now, but which of those possible"
      ]
    },
    {
      "cell_type": "markdown",
      "metadata": {
        "id": "n3P2ZVuKDt5X"
      },
      "source": [
        "Getting back to our parenthood datset, let's now calculate the R-squared value for our simple linear model."
      ]
    },
    {
      "cell_type": "code",
      "execution_count": null,
      "metadata": {
        "id": "k82pICS5Dt5X"
      },
      "outputs": [],
      "source": [
        "sm_lm.rsquared"
      ]
    },
    {
      "cell_type": "markdown",
      "metadata": {
        "id": "MbWfmAGJDt5X"
      },
      "source": [
        "It's difficult to say what \"_good_\" R-squared value is. The threshold for a good R-squared value will depend widely on the domain and data. Therefore, it's most useful as a tool for **comparing different models**, rather than as saying that a single model is \"_good_\"."
      ]
    },
    {
      "cell_type": "markdown",
      "metadata": {
        "id": "EUtG2XvjDt5X"
      },
      "source": [
        "Up until now we have been pulling information from the fitted model piece by piece. However, there is a nice summary command with **statsmodels** that lets you access a bunch of information about your regression at once. Don't worry about all of the other statistics and details listed there, just know that almost all of the information you'll ever need about a linear regression model can be found there."
      ]
    },
    {
      "cell_type": "code",
      "execution_count": null,
      "metadata": {
        "id": "TFaQoU1NDt5X"
      },
      "outputs": [],
      "source": [
        "sm_lm.summary()"
      ]
    },
    {
      "cell_type": "markdown",
      "metadata": {
        "id": "EKDf15tODt5X"
      },
      "source": [
        "## Training a Linear Regression Manually\n",
        "\n",
        "We saw how easy it is to use Python to fit (i.e. train) a linear regression model. Let's go ahead and confirm that the manual approaches we've seen, and the intuition behind them also make sense.\n",
        "\n",
        "Most often we'll see a linear regression defined for one $i^{th}$ observation or training example. Which, for the feature $x_i$ and outcome $y_i$, is written as:\n",
        "$$y_i = \\beta_0 1 + \\beta_1 x_i$$\n",
        "\n",
        "However, we also saw that this can be written in vector or matrix notation where the matrix, $X$, has a column of 1's in it.\n",
        "$$\\vec{y} = X \\vec{\\beta}$$\n",
        "where\n",
        "$$\\vec{\\beta} = \\begin{bmatrix}\\beta_0 \\\\ \\beta_1\\end{bmatrix}$$\n",
        "Then, since (or if) the columns of the matrix $X$ are linearly independent, then the matrix $(X^T X)$ has an inverse, and the model parameters can be calculated directly using:\n",
        "$$\\vec{\\beta} = (X^T X)^{-1} X^T \\vec{y}$$\n",
        "\n",
        "Let's now confirm this works using the parenthood data. We'll first create the matrix $X$, being sure to add a $1$ column since that is needed to estimate $\\beta_0$.\n",
        ""
      ]
    },
    {
      "cell_type": "code",
      "execution_count": null,
      "metadata": {
        "id": "YgwmNjxXDt5X"
      },
      "outputs": [],
      "source": [
        "X = pd.DataFrame({'intercept': 1, 'parent_sleep': df.parent_sleep})\n",
        "X.head(n=3)"
      ]
    },
    {
      "cell_type": "markdown",
      "metadata": {
        "id": "jyEYx40FDt5Y"
      },
      "source": [
        "Let's now do all of the remaining calculations, one step at a time."
      ]
    },
    {
      "cell_type": "code",
      "execution_count": null,
      "metadata": {
        "id": "gDPf9cowDt5Y"
      },
      "outputs": [],
      "source": [
        "# Calculate X^T X\n",
        "XtX = np.dot(X.T, X)\n",
        "\n",
        "# Then the inverse of X^T X\n",
        "XtX_inv = np.linalg.inv(XtX)\n",
        "\n",
        "# Then X^T y\n",
        "Xty = np.dot(X.T, df.parent_grumpy)\n",
        "\n",
        "# And lastly the coefficients\n",
        "betas = np.dot(XtX_inv, Xty)\n",
        "betas"
      ]
    },
    {
      "cell_type": "markdown",
      "metadata": {
        "id": "4vxYZPtIDt5Y"
      },
      "source": [
        "While the linear algebra approach is useful for understanding the underlying math from another point of view, it not immediately intuitive why it works. The following diagram is maybe the best attempt at trying to explain the intuition behind this linear algebra approach.\n",
        "\n",
        "![projection](https://github.com/sgeinitz/CS3120/blob/main/images/projection.png?raw=true)\n",
        "\n",
        "That image is telling us that the any prediction coming out of our model is going to be in the column space of $X$ (i.e. it will lay in a space that spanned by all possible linear combinations of the columns of $X$.) It is not super important that you know this, but it's a fun alternative way to see how linear regression models are fit to their data.\n",
        "\n",
        "The more intuitive way to explain how we fit a linear regression model is by looking more precisely at that quantity we want to minimize, namely the SSE:\n",
        "$$\\text{SSE} = \\sum_{i=1}^{n} (y_i - \\hat{y}_i)^2$$\n",
        "\n",
        "Recall that since $\\hat{y}_i$ is a the prediction for the $i^{th}$ observation, we can write it as $\\beta_0 + \\beta_1 x_i$, and thus rewrite SSE as:\n",
        "$$\\text{SSE} = \\sum_{i=1}^{n} \\left(y_i - (\\beta_0 + \\beta_1 x_i)\\right)^2$$\n",
        "\n",
        "Since there are two parameters, $\\beta_0, \\beta_1$, it's easy for us to visualize what the SSE looks like as a function of these two parameters. Below is a heatmap or surface plot of these. Again, to train the model we need to find the model parameter values that minimize SSE. Look at the plot below to see if you can roughly guess what the parameter values are."
      ]
    },
    {
      "cell_type": "code",
      "execution_count": null,
      "metadata": {
        "id": "YFJFXjpqDt5Y"
      },
      "outputs": [],
      "source": [
        "beta0_range = 25\n",
        "beta0 = np.arange(lm.intercept_+beta0_range, lm.intercept_-beta0_range, -0.5)\n",
        "beta1_range = 4\n",
        "beta1 = np.arange(lm.coef_[0]-beta1_range, lm.coef_[0]+beta1_range, 0.1)\n",
        "surf = np.array( [[np.square(df.parent_grumpy - (beta0[i] + beta1[j]*df.parent_sleep)).sum() for j in range(len(beta1))] for i in range(len(beta0))] )\n",
        "df_surf = pd.DataFrame(surf, columns=beta1, index=beta0)\n",
        "\n",
        "fig, ax = plt.subplots(figsize=(10, 8))\n",
        "sns.heatmap(df_surf, cbar_kws={'label': 'SSE'}, cmap=\"RdYlGn_r\", ax=ax)\n",
        "ax.contour(np.arange(.5, df_surf.shape[1]), np.arange(.5, df_surf.shape[0]), df_surf, colors='black', levels=[1960, 9000, 50000, 150000], linewidths=0.5)\n",
        "\n",
        "plt.xlabel(\"beta1\")\n",
        "plt.ylabel(\"beta0\")\n",
        "plt.show()\n"
      ]
    },
    {
      "cell_type": "markdown",
      "metadata": {
        "id": "HA7fQ5y4Dt5Y"
      },
      "source": [
        "You probably already figured out how to find the parameter values above, which is to look at the values of $beta_0$ and $\\beta_1$ that corresponded to the lowest point on the surface. We can look the data used in the plot and see here."
      ]
    },
    {
      "cell_type": "code",
      "execution_count": null,
      "metadata": {
        "id": "ASA7KMP6Dt5Y"
      },
      "outputs": [],
      "source": [
        "# find the minimum of the surface\n",
        "beta0_min, beta1_min = np.unravel_index(surf.argmin(), surf.shape)\n",
        "beta0[beta0_min], beta1[beta1_min]"
      ]
    },
    {
      "cell_type": "markdown",
      "metadata": {
        "id": "-OvVgBklDt5Y"
      },
      "source": [
        "Notice that those values are nearly exactly what we found using **statsmodels**, **sklearn**, as well as the linear algebra approach. Let's try one more way of finding these parameter values now. For this we'll use calculus to solve for values of $\\beta_0$ and $\\beta_1$ that give us the minimum on the surface above (i.e. the value where the slope of the surface is zero).\n",
        "\n",
        "If you recall from Calculus class, we simply need to write the SSE as a function of the model parameters, $\\beta_0$, $\\beta_1$, and set it to zero, then solve. It's not important that you know how to do this exactly, but it's important to know that this is yet another way to think about \"_training_\" a linear regression model. Let's first explicitly state that the SSE is a function of the model parameters:\n",
        "$$\\text{SSE}(\\beta_0, \\beta_1) = \\sum_{i=1}^{n} \\left( y_i - (\\beta_0 + \\beta_1 x_i) \\right)^2$$\n"
      ]
    },
    {
      "cell_type": "markdown",
      "metadata": {
        "id": "1MTj0w1iDt5Z"
      },
      "source": [
        "Steps to Solve for $\\beta_0$ and $\\beta_1$ Using Calculus\n",
        "\n",
        "1. Partial Derivatives\n",
        "   - To minimize SSE, take the partial derivatives of SSE with respect to $\\beta_0$ and $\\beta_1$, and set them equal to zero.\n",
        "\n",
        "   Partial Derivative with respect to $\\beta_0$:\n",
        "   $$\\frac{\\partial \\text{SSE}}{\\partial \\beta_0} = \\sum_{i=1}^{n} -2 \\cdot \\left( y_i - \\beta_0 - \\beta_1 \\cdot x_i \\right) = 0$$\n",
        "\n",
        "   Partial Derivative with respect to $\\beta_1$:\n",
        "   $$\\frac{\\partial \\text{SSE}}{\\partial \\beta_1} = \\sum_{i=1}^{n} -2 \\cdot x_i \\cdot \\left( y_i - \\beta_0 - \\beta_1 \\cdot x_i \\right) = 0$$\n",
        "\n",
        "2. Simplify the Equations\n",
        "   - Simplify the partial derivative equations to form two normal equations.\n",
        "\n",
        "   For $\\beta_0$:\n",
        "   $$\\sum_{i=1}^{n} \\left( y_i - \\beta_0 - \\beta_1 \\cdot x_i \\right) = 0$$\n",
        "   - Expanding and beginning to isolate $\\beta_0$, we get:\n",
        "   $$\\sum_{i=1}^{n} y_i - n \\cdot \\beta_0 + \\beta_1 \\sum_{i=1}^{n} x_i = 0 \\quad \\rightarrow \\quad n \\cdot \\beta_0 = \\sum_{i=1}^{n} y_i -\\beta_1 \\cdot \\sum_{i=1}^{n} x_i $$\n",
        "   - Divide by $n$ to get:\n",
        "   $$\\beta_0 = \\bar{y} - \\beta_1 \\cdot \\bar{x}$$\n",
        "   where $\\bar{y} = \\frac{1}{n} \\sum_{i=1}^{n} y_i$ and $\\bar{x} = \\frac{1}{n} \\sum_{i=1}^{n} x_i$ are the means of $y$ and $x$, respectively.\n",
        "\n",
        "   For $\\beta_1$:\n",
        "   $$\\sum_{i=1}^{n} x_i \\cdot y_i = \\beta_0 \\cdot \\sum_{i=1}^{n} x_i + \\beta_1 \\cdot \\sum_{i=1}^{n} x_i^2$$\n",
        "   - Substitute $\\beta_0 = \\bar{y} - \\beta_1 \\cdot \\bar{x}$ into this equation:\n",
        "   $$\\sum_{i=1}^{n} x_i \\cdot y_i = (\\bar{y} - \\beta_1 \\cdot \\bar{x}) \\cdot \\sum_{i=1}^{n} x_i + \\beta_1 \\cdot \\sum_{i=1}^{n} x_i^2$$\n",
        "   - After expanding and simplifying:\n",
        "   $$\\beta_1 = \\frac{\\sum_{i=1}^{n} \\left( x_i - \\bar{x} \\right) \\left( y_i - \\bar{y} \\right)}{\\sum_{i=1}^{n} \\left( x_i - \\bar{x} \\right)^2}$$\n",
        "\n",
        "Let's now use these formulas to \"train\" the model (i.e. calculate the values of the parameters $\\beta_0$, $\\beta_1$) for our given training dataset.\n"
      ]
    },
    {
      "cell_type": "code",
      "execution_count": null,
      "metadata": {
        "id": "YDItDDi1Dt5Z"
      },
      "outputs": [],
      "source": [
        "n = df.shape[0] # this is the number of observations or training examples\n",
        "b1_numerator = np.sum((df.parent_grumpy - df.parent_grumpy.mean()) * (df.parent_sleep - df.parent_sleep.mean()))\n",
        "b1_denominator = np.sum((df.parent_sleep - df.parent_sleep.mean()) ** 2)\n",
        "beta1_hat = b1_numerator / b1_denominator\n",
        "\n",
        "beta0_hat = df.parent_grumpy.mean() - beta1_hat * df.parent_sleep.mean()\n",
        "(beta0_hat, beta1_hat)"
      ]
    },
    {
      "cell_type": "markdown",
      "metadata": {
        "id": "_kwJE8QxDt5Z"
      },
      "source": [
        "As you can see, those values are the exact same as we found earlier. You may have noticed that the formulas we found for $\\beta_0$ and $\\beta_1$ above contain some terms that look similar to variance and covariance calculations. Given that, we could also calculate these values in a more concise manner using **numpy's** functions for these descriptive statistics."
      ]
    },
    {
      "cell_type": "code",
      "execution_count": null,
      "metadata": {
        "id": "8TPKtX1kDt5Z"
      },
      "outputs": [],
      "source": [
        "cov = np.cov(df.parent_sleep, df.parent_grumpy, ddof=0) # calculate the covariance of x=df.parent_sleep and y=df.parent_grumpy\n",
        "var_x = np.var(df.parent_sleep, ddof=0) # calculate the variance of x=df.parent_sleep\n",
        "\n",
        "beta1_hat = cov[0,1] / var_x\n",
        "beta0_hat = df.parent_grumpy.mean() - beta1_hat * df.parent_sleep.mean()\n",
        "(beta0_hat, beta1_hat)"
      ]
    },
    {
      "cell_type": "markdown",
      "metadata": {
        "id": "0lJmrxcADt5Z"
      },
      "source": [
        "Hopefully it is somewhat satisfying to see that regardless of the approach we used, we still come up with the same model fit (i.e. the model parameters have the same values). We won't look at them here, but there are even more ways to state these formulas, including with the correlation between $x$ and $y$.\n",
        "\n",
        "Next, let's assume that when the data was collected, the amount of sleep a parent had was recorded in minuts. The cell below creates this column, `parent_sleep_minutes`. Use this for the following question."
      ]
    },
    {
      "cell_type": "code",
      "execution_count": null,
      "metadata": {
        "id": "o7HH3KNYDt5Z"
      },
      "outputs": [],
      "source": [
        "df['parent_sleep_minutes'] = df['parent_sleep']*60\n",
        "df.parent_sleep_minutes.describe()"
      ]
    },
    {
      "cell_type": "markdown",
      "metadata": {
        "id": "cw-uUCpsDt5Z"
      },
      "source": [
        " ***\n",
        "\n",
        " ### Q6: Fit a new linear regression model with **statsmodels** where `parent_sleep_minutes` is used to predict `parent_grumpy`. Does this affect the model parameter estimates? Are they the same? Or different?\n",
        "\n",
        " \\<modify the code in the cell below and modify it to fit the linear regression model and retrieve the model summary. Then input your here - be sure to state what the grumpiness value the model predicted\\>\n",
        "\n",
        " ***"
      ]
    },
    {
      "cell_type": "code",
      "execution_count": null,
      "metadata": {
        "id": "89DZkg4HDt5Z"
      },
      "outputs": [],
      "source": [
        "sm_lm_min = smf.ols(formula=' ~ ', data=df).fit()\n",
        "sm_lm_min.params"
      ]
    },
    {
      "cell_type": "markdown",
      "metadata": {
        "id": "0i61EVDSDt5Z"
      },
      "source": [
        "***\n",
        "\n",
        "### Q7: Does having `parent_sleep` measured in different units affect how well the model fits the data? In other words, is the $R^2$ different from when `parent_sleep` was measured in hours? Also, are the p-values associated with $\\beta_0$, $\\beta_1$ different? What does this tell you about how linear regression models are affected by a variable being scaled?\n",
        "\n",
        "\\<insert a code cell below then use `sm_lm_min.summary()` to retrieve the model summary and then input your answer here\\>\n",
        "\n",
        "***"
      ]
    },
    {
      "cell_type": "markdown",
      "metadata": {
        "id": "g3cx0IQVDt5a"
      },
      "source": [
        "### Multiple Linear Regression\n",
        "\n",
        "What we've looked at so far is commonly referred to as *Simple Linear Regression*, which is when there is one *predictor* (or *feature* or *independent variable*), $x$, and we are trying to predict the *outcome* or *response* or *dependent variable*, $y$. Linear Regression is a powerful and commonly used tool though, so you can imagine that it's not too difficult to add more predictors. Below is an example where we'll try fitting a *Multiple linear Regression* model, which is a linear regression model with more two or more *predictors* (or *features* or *independent variables*).\n",
        "\n",
        "The dataset is a (hypothetical) company's advertising spend and sales they have made for each day. There are four columns in the data:\n",
        "* `tv` - amount of money spent on television advertising last week\n",
        "* `radio` - amount of money spent on radio advertising last week\n",
        "* `newspaper` - amount of money spent on newpaper advertising last week\n",
        "* `sales` - number of widgets (in thousands) the company sold last week"
      ]
    },
    {
      "cell_type": "code",
      "execution_count": null,
      "metadata": {
        "id": "iXnauxpKDt5a"
      },
      "outputs": [],
      "source": [
        "df_adv = pd.read_csv('https://raw.githubusercontent.com/sgeinitz/CS3120/main/lab1_data_advertising.csv')\n",
        "df_adv.head()"
      ]
    },
    {
      "cell_type": "markdown",
      "metadata": {
        "id": "nRXeCLShDt5a"
      },
      "source": [
        "Let's also get a quick idea of what the data looks like in terms of min, max, mean, etc."
      ]
    },
    {
      "cell_type": "code",
      "execution_count": null,
      "metadata": {
        "id": "3iri3f4rDt5a"
      },
      "outputs": [],
      "source": [
        "df_adv.describe()"
      ]
    },
    {
      "cell_type": "markdown",
      "metadata": {
        "id": "vkefXjvsDt5a"
      },
      "source": [
        "***\n",
        "\n",
        " ### Q8: As we said, any data analysis or modeling task first requires looking at or visualizing the data. Plot the each of the independent variables (`tv`, `radio`, `newspaper`) against the dependent variable, `sales`. Then state which of them you think looks like it going to best predict `sales`.\n",
        "\n",
        "\\<modify the code cell below (the first is done for you) and then input your answer here\\>\n",
        "\n",
        "***\n",
        "\n",
        "If you can, try to put all of the plots together in a single figure."
      ]
    },
    {
      "cell_type": "code",
      "execution_count": null,
      "metadata": {
        "id": "WA5VRsq4Dt5a"
      },
      "outputs": [],
      "source": [
        "# plot all three of the features against sales\n",
        "fig, (ax1, ax2, ax3) = plt.subplots(1, 3, figsize=(15, 5))\n",
        "sns.scatterplot(data=df_adv, x='tv', y='sales', ax=ax1)\n",
        "sns.scatterplot(data=df_adv, x='radio', y='sales', ax=ax2)\n",
        "sns.scatterplot(data=df_adv, x='newspaper', y='sales', ax=ax3)\n",
        "plt.show()\n"
      ]
    },
    {
      "cell_type": "markdown",
      "metadata": {
        "id": "-R5u_hgbDt5a"
      },
      "source": [
        "Next, let's fit a linear regression model using all three variables."
      ]
    },
    {
      "cell_type": "code",
      "execution_count": null,
      "metadata": {
        "id": "ABpbosghDt5a"
      },
      "outputs": [],
      "source": [
        "lm_adv = smf.ols(formula='sales ~ tv + radio + newspaper', data=df_adv).fit()\n",
        "lm_adv.summary()"
      ]
    },
    {
      "cell_type": "markdown",
      "metadata": {
        "id": "Y7jQRB4lDt5a"
      },
      "source": [
        "It looks like that model fits pretty well. But, based on the plots you saw above, it looks like there is not an exact linear relationship between `tv` and `sales`...\n",
        "\n",
        "***\n",
        "\n",
        "### Q9: Try fitting a model to this dataset with `radio` and `newspaper` included, but use the square root of `tv`. Then print the summary of the model to see the $R^2$. If you worked for this company, which model do you think you would use? The one above or this new one you created here? Explain why.\n",
        "\n",
        "\\<fix the code cell below to fit the model described above and then input your answer here>\n",
        "\n",
        "***\n",
        "\n",
        "Hints:\n",
        "* Use [this reference](https://www.statsmodels.org/dev/example_formulas.html#functions) to see how to include a function of an independent variable in your model\n",
        "* The function, `np.sqrt( )` is numpy's square root function"
      ]
    },
    {
      "cell_type": "code",
      "execution_count": null,
      "metadata": {
        "id": "70yxhNOuDt5a"
      },
      "outputs": [],
      "source": [
        "lm_adv = smf.ols(formula='sales ~ ', data=df_adv).fit()\n",
        "lm_adv.summary()"
      ]
    },
    {
      "cell_type": "markdown",
      "metadata": {
        "id": "UInEKA8PDt5a"
      },
      "source": [
        "Nice work completing this notebook. If you didn't already appreciate the power of linear regression, hopefully this helped convince you in some way. Even though we will use lots of other types of models, you will almost always want to start with linear regression because of its simplicity, stability, and flexibility. We'll always want to use the *right model for the task at hand* though, so we probably don't want to be too much like either of the people below :)\n",
        "\n",
        "![Example Image](https://media.licdn.com/dms/image/v2/D4E22AQFLVt8372oIQA/feedshare-shrink_800/feedshare-shrink_800/0/1710511681665?e=1727308800&v=beta&t=XephAeg6t9otHgyXtIHxbYiAxJdKOkH0uP0pU9eP2oY)\n"
      ]
    }
  ],
  "metadata": {
    "kernelspec": {
      "display_name": "Python 3 (ipykernel)",
      "language": "python",
      "name": "python3"
    },
    "language_info": {
      "codemirror_mode": {
        "name": "ipython",
        "version": 3
      },
      "file_extension": ".py",
      "mimetype": "text/x-python",
      "name": "python",
      "nbconvert_exporter": "python",
      "pygments_lexer": "ipython3",
      "version": "3.12.4"
    },
    "toc": {
      "base_numbering": 1,
      "nav_menu": {},
      "number_sections": true,
      "sideBar": true,
      "skip_h1_title": false,
      "title_cell": "Table of Contents",
      "title_sidebar": "Contents",
      "toc_cell": false,
      "toc_position": {},
      "toc_section_display": true,
      "toc_window_display": false
    },
    "colab": {
      "provenance": []
    },
    "widgets": {
      "application/vnd.jupyter.widget-state+json": {
        "1fc21948139140f0ae2f1cc5af8abfb1": {
          "model_module": "@jupyter-widgets/controls",
          "model_name": "VBoxModel",
          "model_module_version": "1.5.0",
          "state": {
            "_dom_classes": [
              "widget-interact"
            ],
            "_model_module": "@jupyter-widgets/controls",
            "_model_module_version": "1.5.0",
            "_model_name": "VBoxModel",
            "_view_count": null,
            "_view_module": "@jupyter-widgets/controls",
            "_view_module_version": "1.5.0",
            "_view_name": "VBoxView",
            "box_style": "",
            "children": [
              "IPY_MODEL_a312a15854344001b07c81968679d5c4",
              "IPY_MODEL_ec8765cb14364a0587df2887c9762d3b",
              "IPY_MODEL_99cf7724100f41a98a0e7447bca63cbb"
            ],
            "layout": "IPY_MODEL_286c8d9731a24cc3b10db8d586255c3a"
          }
        },
        "a312a15854344001b07c81968679d5c4": {
          "model_module": "@jupyter-widgets/controls",
          "model_name": "IntSliderModel",
          "model_module_version": "1.5.0",
          "state": {
            "_dom_classes": [],
            "_model_module": "@jupyter-widgets/controls",
            "_model_module_version": "1.5.0",
            "_model_name": "IntSliderModel",
            "_view_count": null,
            "_view_module": "@jupyter-widgets/controls",
            "_view_module_version": "1.5.0",
            "_view_name": "IntSliderView",
            "continuous_update": true,
            "description": "slope",
            "description_tooltip": null,
            "disabled": false,
            "layout": "IPY_MODEL_fc2f2dfa40b94024b34c0cbdfd52bfae",
            "max": 20,
            "min": -20,
            "orientation": "horizontal",
            "readout": true,
            "readout_format": "d",
            "step": 1,
            "style": "IPY_MODEL_064ab5d5303a45719ef6bffbf1dbac9a",
            "value": -9
          }
        },
        "ec8765cb14364a0587df2887c9762d3b": {
          "model_module": "@jupyter-widgets/controls",
          "model_name": "IntSliderModel",
          "model_module_version": "1.5.0",
          "state": {
            "_dom_classes": [],
            "_model_module": "@jupyter-widgets/controls",
            "_model_module_version": "1.5.0",
            "_model_name": "IntSliderModel",
            "_view_count": null,
            "_view_module": "@jupyter-widgets/controls",
            "_view_module_version": "1.5.0",
            "_view_name": "IntSliderView",
            "continuous_update": true,
            "description": "intercept",
            "description_tooltip": null,
            "disabled": false,
            "layout": "IPY_MODEL_e7b50caecfe749c7a4d51fd9a693ce36",
            "max": 200,
            "min": 0,
            "orientation": "horizontal",
            "readout": true,
            "readout_format": "d",
            "step": 1,
            "style": "IPY_MODEL_76a7ebcd3cbd4c7a96985474564b89d0",
            "value": 127
          }
        },
        "99cf7724100f41a98a0e7447bca63cbb": {
          "model_module": "@jupyter-widgets/output",
          "model_name": "OutputModel",
          "model_module_version": "1.0.0",
          "state": {
            "_dom_classes": [],
            "_model_module": "@jupyter-widgets/output",
            "_model_module_version": "1.0.0",
            "_model_name": "OutputModel",
            "_view_count": null,
            "_view_module": "@jupyter-widgets/output",
            "_view_module_version": "1.0.0",
            "_view_name": "OutputView",
            "layout": "IPY_MODEL_bd2f327b0f814d4fb5306fd2ce62d99e",
            "msg_id": "",
            "outputs": [
              {
                "output_type": "display_data",
                "data": {
                  "text/plain": "<Figure size 900x600 with 1 Axes>",
                  "image/png": "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\n"
                },
                "metadata": {}
              }
            ]
          }
        },
        "286c8d9731a24cc3b10db8d586255c3a": {
          "model_module": "@jupyter-widgets/base",
          "model_name": "LayoutModel",
          "model_module_version": "1.2.0",
          "state": {
            "_model_module": "@jupyter-widgets/base",
            "_model_module_version": "1.2.0",
            "_model_name": "LayoutModel",
            "_view_count": null,
            "_view_module": "@jupyter-widgets/base",
            "_view_module_version": "1.2.0",
            "_view_name": "LayoutView",
            "align_content": null,
            "align_items": null,
            "align_self": null,
            "border": null,
            "bottom": null,
            "display": null,
            "flex": null,
            "flex_flow": null,
            "grid_area": null,
            "grid_auto_columns": null,
            "grid_auto_flow": null,
            "grid_auto_rows": null,
            "grid_column": null,
            "grid_gap": null,
            "grid_row": null,
            "grid_template_areas": null,
            "grid_template_columns": null,
            "grid_template_rows": null,
            "height": null,
            "justify_content": null,
            "justify_items": null,
            "left": null,
            "margin": null,
            "max_height": null,
            "max_width": null,
            "min_height": null,
            "min_width": null,
            "object_fit": null,
            "object_position": null,
            "order": null,
            "overflow": null,
            "overflow_x": null,
            "overflow_y": null,
            "padding": null,
            "right": null,
            "top": null,
            "visibility": null,
            "width": null
          }
        },
        "fc2f2dfa40b94024b34c0cbdfd52bfae": {
          "model_module": "@jupyter-widgets/base",
          "model_name": "LayoutModel",
          "model_module_version": "1.2.0",
          "state": {
            "_model_module": "@jupyter-widgets/base",
            "_model_module_version": "1.2.0",
            "_model_name": "LayoutModel",
            "_view_count": null,
            "_view_module": "@jupyter-widgets/base",
            "_view_module_version": "1.2.0",
            "_view_name": "LayoutView",
            "align_content": null,
            "align_items": null,
            "align_self": null,
            "border": null,
            "bottom": null,
            "display": null,
            "flex": null,
            "flex_flow": null,
            "grid_area": null,
            "grid_auto_columns": null,
            "grid_auto_flow": null,
            "grid_auto_rows": null,
            "grid_column": null,
            "grid_gap": null,
            "grid_row": null,
            "grid_template_areas": null,
            "grid_template_columns": null,
            "grid_template_rows": null,
            "height": null,
            "justify_content": null,
            "justify_items": null,
            "left": null,
            "margin": null,
            "max_height": null,
            "max_width": null,
            "min_height": null,
            "min_width": null,
            "object_fit": null,
            "object_position": null,
            "order": null,
            "overflow": null,
            "overflow_x": null,
            "overflow_y": null,
            "padding": null,
            "right": null,
            "top": null,
            "visibility": null,
            "width": null
          }
        },
        "064ab5d5303a45719ef6bffbf1dbac9a": {
          "model_module": "@jupyter-widgets/controls",
          "model_name": "SliderStyleModel",
          "model_module_version": "1.5.0",
          "state": {
            "_model_module": "@jupyter-widgets/controls",
            "_model_module_version": "1.5.0",
            "_model_name": "SliderStyleModel",
            "_view_count": null,
            "_view_module": "@jupyter-widgets/base",
            "_view_module_version": "1.2.0",
            "_view_name": "StyleView",
            "description_width": "",
            "handle_color": null
          }
        },
        "e7b50caecfe749c7a4d51fd9a693ce36": {
          "model_module": "@jupyter-widgets/base",
          "model_name": "LayoutModel",
          "model_module_version": "1.2.0",
          "state": {
            "_model_module": "@jupyter-widgets/base",
            "_model_module_version": "1.2.0",
            "_model_name": "LayoutModel",
            "_view_count": null,
            "_view_module": "@jupyter-widgets/base",
            "_view_module_version": "1.2.0",
            "_view_name": "LayoutView",
            "align_content": null,
            "align_items": null,
            "align_self": null,
            "border": null,
            "bottom": null,
            "display": null,
            "flex": null,
            "flex_flow": null,
            "grid_area": null,
            "grid_auto_columns": null,
            "grid_auto_flow": null,
            "grid_auto_rows": null,
            "grid_column": null,
            "grid_gap": null,
            "grid_row": null,
            "grid_template_areas": null,
            "grid_template_columns": null,
            "grid_template_rows": null,
            "height": null,
            "justify_content": null,
            "justify_items": null,
            "left": null,
            "margin": null,
            "max_height": null,
            "max_width": null,
            "min_height": null,
            "min_width": null,
            "object_fit": null,
            "object_position": null,
            "order": null,
            "overflow": null,
            "overflow_x": null,
            "overflow_y": null,
            "padding": null,
            "right": null,
            "top": null,
            "visibility": null,
            "width": null
          }
        },
        "76a7ebcd3cbd4c7a96985474564b89d0": {
          "model_module": "@jupyter-widgets/controls",
          "model_name": "SliderStyleModel",
          "model_module_version": "1.5.0",
          "state": {
            "_model_module": "@jupyter-widgets/controls",
            "_model_module_version": "1.5.0",
            "_model_name": "SliderStyleModel",
            "_view_count": null,
            "_view_module": "@jupyter-widgets/base",
            "_view_module_version": "1.2.0",
            "_view_name": "StyleView",
            "description_width": "",
            "handle_color": null
          }
        },
        "bd2f327b0f814d4fb5306fd2ce62d99e": {
          "model_module": "@jupyter-widgets/base",
          "model_name": "LayoutModel",
          "model_module_version": "1.2.0",
          "state": {
            "_model_module": "@jupyter-widgets/base",
            "_model_module_version": "1.2.0",
            "_model_name": "LayoutModel",
            "_view_count": null,
            "_view_module": "@jupyter-widgets/base",
            "_view_module_version": "1.2.0",
            "_view_name": "LayoutView",
            "align_content": null,
            "align_items": null,
            "align_self": null,
            "border": null,
            "bottom": null,
            "display": null,
            "flex": null,
            "flex_flow": null,
            "grid_area": null,
            "grid_auto_columns": null,
            "grid_auto_flow": null,
            "grid_auto_rows": null,
            "grid_column": null,
            "grid_gap": null,
            "grid_row": null,
            "grid_template_areas": null,
            "grid_template_columns": null,
            "grid_template_rows": null,
            "height": null,
            "justify_content": null,
            "justify_items": null,
            "left": null,
            "margin": null,
            "max_height": null,
            "max_width": null,
            "min_height": null,
            "min_width": null,
            "object_fit": null,
            "object_position": null,
            "order": null,
            "overflow": null,
            "overflow_x": null,
            "overflow_y": null,
            "padding": null,
            "right": null,
            "top": null,
            "visibility": null,
            "width": null
          }
        },
        "62e7f545eac743a7bd01e1f5e95cf657": {
          "model_module": "@jupyter-widgets/controls",
          "model_name": "VBoxModel",
          "model_module_version": "1.5.0",
          "state": {
            "_dom_classes": [
              "widget-interact"
            ],
            "_model_module": "@jupyter-widgets/controls",
            "_model_module_version": "1.5.0",
            "_model_name": "VBoxModel",
            "_view_count": null,
            "_view_module": "@jupyter-widgets/controls",
            "_view_module_version": "1.5.0",
            "_view_name": "VBoxView",
            "box_style": "",
            "children": [
              "IPY_MODEL_2695458c20ea4805bdfa4f6a04104b1d",
              "IPY_MODEL_db96faaa15a841eea04c158336895c10",
              "IPY_MODEL_414dddcb7e974ada9e01a817a9d52ef2"
            ],
            "layout": "IPY_MODEL_6f89474f8e6d4bc5ab9e4199c1ab14dc"
          }
        },
        "2695458c20ea4805bdfa4f6a04104b1d": {
          "model_module": "@jupyter-widgets/controls",
          "model_name": "IntSliderModel",
          "model_module_version": "1.5.0",
          "state": {
            "_dom_classes": [],
            "_model_module": "@jupyter-widgets/controls",
            "_model_module_version": "1.5.0",
            "_model_name": "IntSliderModel",
            "_view_count": null,
            "_view_module": "@jupyter-widgets/controls",
            "_view_module_version": "1.5.0",
            "_view_name": "IntSliderView",
            "continuous_update": true,
            "description": "slope",
            "description_tooltip": null,
            "disabled": false,
            "layout": "IPY_MODEL_370f6ebfe2b2466182649c7011d4a925",
            "max": 20,
            "min": -20,
            "orientation": "horizontal",
            "readout": true,
            "readout_format": "d",
            "step": 1,
            "style": "IPY_MODEL_3e4f9decf5c045c1a2cf464a708c7907",
            "value": -6
          }
        },
        "db96faaa15a841eea04c158336895c10": {
          "model_module": "@jupyter-widgets/controls",
          "model_name": "IntSliderModel",
          "model_module_version": "1.5.0",
          "state": {
            "_dom_classes": [],
            "_model_module": "@jupyter-widgets/controls",
            "_model_module_version": "1.5.0",
            "_model_name": "IntSliderModel",
            "_view_count": null,
            "_view_module": "@jupyter-widgets/controls",
            "_view_module_version": "1.5.0",
            "_view_name": "IntSliderView",
            "continuous_update": true,
            "description": "intercept",
            "description_tooltip": null,
            "disabled": false,
            "layout": "IPY_MODEL_d34fc20c19c542d59f9f518917271ea5",
            "max": 200,
            "min": 0,
            "orientation": "horizontal",
            "readout": true,
            "readout_format": "d",
            "step": 1,
            "style": "IPY_MODEL_69069630d0dc42c8ae2769de78e6d1cd",
            "value": 106
          }
        },
        "414dddcb7e974ada9e01a817a9d52ef2": {
          "model_module": "@jupyter-widgets/output",
          "model_name": "OutputModel",
          "model_module_version": "1.0.0",
          "state": {
            "_dom_classes": [],
            "_model_module": "@jupyter-widgets/output",
            "_model_module_version": "1.0.0",
            "_model_name": "OutputModel",
            "_view_count": null,
            "_view_module": "@jupyter-widgets/output",
            "_view_module_version": "1.0.0",
            "_view_name": "OutputView",
            "layout": "IPY_MODEL_74838cacc9b547fcab5abbbf3f057e9e",
            "msg_id": "",
            "outputs": [
              {
                "output_type": "display_data",
                "data": {
                  "text/plain": "<Figure size 900x600 with 1 Axes>",
                  "image/png": "iVBORw0KGgoAAAANSUhEUgAAAvwAAAINCAYAAABClqszAAAAOnRFWHRTb2Z0d2FyZQBNYXRwbG90bGliIHZlcnNpb24zLjEwLjAsIGh0dHBzOi8vbWF0cGxvdGxpYi5vcmcvlHJYcgAAAAlwSFlzAAAPYQAAD2EBqD+naQAAd4RJREFUeJzt3X18jfUfx/HXGZuNmbuwkfva3GRzVxKyUJL7M4tRiJJS7kpRMSNUchOFlFCJX+wkUcrdhBQpWmFTyU0zVGzI3O36/XHZ2tjYYWfn7Oz9fDzO4+g617nO57qhz/me7/X5WAzDMBAREREREbfk4ewARERERETEcZTwi4iIiIi4MSX8IiIiIiJuTAm/iIiIiIgbU8IvIiIiIuLGlPCLiIiIiLgxJfwiIiIiIm5MCb+IiIiIiBsr7OwAHC01NZWEhASKFy+OxWJxdjgiIiIiIjfMMAxOnjxJhQoV8PC4+hi+2yf8CQkJVKpUydlhiIiIiIjkuoMHD3LzzTdfdR23T/iLFy8OmAfDz8/PydGIiIiIiNy45ORkKlWqlJ7rXo3bJ/xp03j8/PyU8IuIiIiIW8nJlHXdtCsiIiIi4saU8IuIiIiIuDEl/CIiIiIibkwJv4iIiIiIG1PCLyIiIiLixpTwi4iIiIi4MSX8IiIiIiJuTAm/iIiIiIgbU8IvIiIiIuLGlPCLiIiIiLgxJfwiIiIiIm5MCb+IiIiIiBtTwi8iIiIi4saU8IuIiIiIuDEl/CIiIiIibkwJvwuw2WyEhITg4+NDSEgINpvN2SGJiIiIiJtQwu9kNpuNsLAwYmNjSUlJITY2lrCwMCX9IiIiIpIrlPA7WVRUFBaLBcMwADAMA4vFwtixY50cmYiIiIi4AyX8ThYfH5+e7He/tMwwDOLi4pwXlIiIiIi4DSX8ThYYGIjFYgEg4tIyi8VCUFCQ84ISEREREbehhN/JIiMj06fxAOnTeyIjI50cmYiIiIi4AyX8Tma1WomOjiY4OBgPDw+Cg4Ox2Wx06dLF2aGJiIiIiBtwasJ/8uRJhgwZQpUqVfDx8eGuu+5i27Zt6a8bhsHo0aMJCAjAx8eH1q1bs3fvXidG7BhWq5UdO3bQvl07duzYoWRfRERERHKNUxP+Rx99lNWrV/PBBx8QGxvLfffdR+vWrfnzzz8BeO2115g+fTqzZ8/mu+++o1ixYrRp04aUlBRnhi0iIiIikm9YjLQSMXnszJkzFC9enE8//ZR27dqlL2/YsCFt27Zl3LhxVKhQgWeeeYZnn30WgKSkJMqXL8/8+fPp3r17dpvOJDk5mRIlSpCUlISfn59D9iXXdOwIy5c7OwoRERERcXH25LhOG+G/cOECFy9exNvbO9NyHx8fNm3axL59+0hMTKR169bpr5UoUYLGjRuzZcuWbLd79uxZkpOTMz1ERERERAoqpyX8xYsXp0mTJowbN46EhAQuXrzIhx9+yJYtWzh8+DCJiYkAlC9fPtP7ypcvn/5aViZOnEiJEiXSH5UqVXLofoiIiIiIuDKnzuH/4IMPMAyDihUrUqRIEaZPn05ERAQeHtcf1siRI0lKSkp/HDx4MBcjFhERERHJX5ya8NeoUYMNGzZw6tQpDh48yNatWzl//jzVq1fH398fgCNHjmR6z5EjR9Jfy0qRIkXw8/PL9BARERERKahcog5/sWLFCAgI4Pjx43z55Zd06tSJatWq4e/vz9q1a9PXS05O5rvvvqNJkyZOjFZEREREJP8o7MwP//LLLzEMg6CgIH799VeGDx9OzZo1eeSRR7BYLAwZMoSXX36ZW2+9lWrVqjFq1CgqVKhA586dnRm2iIiIiEi+4dSEPykpiZEjR3Lo0CFKly5NWFgY48ePx9PTE4DnnnuO06dP079/f06cOEGzZs1YtWrVFZV9REREREQka06rw59XnFmH32azERUVRXx8PIGBgURGRmK1WrN/g+rwi4iIiEgO5Is6/O7OZrMRFhZGbGwsKSkpxMbGEhYWhs1mc3ZoIiIiIlKAKOF3kKioKCwWC2k/oBiGgcViYezYsU6OTEREREQKEiX8DhIfH5+e7He/tMwwDOLi4pwXlIiIiIgUOEr4HSQwMBCLxQJAxKVlFouFoKAg5wUlIiIiIgWOEn4HiYyMTJ/GA6RP74mMjHRyZCIiIiJSkCjhdxCr1Up0dDTBwcF4eHgQHByMzWajS5cuzg5NRERERAoQp9bhd3dWq9Usw9mxI+1VblNEREREnEAj/CIiIiIibkwJv4iIiIiIG1PCLyIiIiLixpTwi4iIiIi4MSX8IiIiIiJuTAm/iIiIiIgbU8IvIiIiIuLGlPCLiIiIiLgxJfwiIiIiIm5MCb+IiIiIiBtTwi8iIiIi4saU8IuIiIiIuDEl/CIiIiIibkwJv4iIiIiIG1PCLyIiIiLixpTwi4iIiIi4MSX8IiIiIiJuTAl/PmOz2QgJCcHHx4eQkBBsNpuzQxIRERERF6aEPx+x2WyEhYURGxtLSkoKsbGxhIWFKekXERERkWwp4c9HoqKisFgsGIYBgGEYWCwWxo4d6+TIRERERMRVKeHPR+Lj49OT/e6XlhmGQVxcnPOCEhERERGXpoQ/HwkMDMRisQAQcWmZxWIhKCjIeUGJiIiIiEtTwp+PREZGpk/jAdKn90RGRjo5MhERERFxVUr48xGr1Up0dDTBwcF4eHgQHByMzWajS5cuzg5NRERERFxUYWcHIPaxWq1YrVbo2JH2y5c7OxwRERERcXEa4RcRERERcWNK+EVERERE3JgSfhERERERN6aEX0RERETEjSnhFxERERFxY0r4RURERETcmBJ+ERERERE3poRfRERERMSNKeEXEREREXFjSvhFRERERNyYEn4RERERETemhF9ERERExI0p4RcRERERcWNK+EVERERE3JgSfhERERERN6aEX0RERETEjSnhFxERERFxY0r4RURERETcmBJ+ERERERE3poRfRERERMSNKeEXEREREXFjSvhFRERERNyYEn4RERERETemhF9ERERExI0p4RcRERERcWNK+POIzWYjJCQEHx8fQkJCsNlszg4pS64Ypz0xuWL8IiIiIs5kMQzDcHYQjpScnEyJEiVISkrCz8/PKTEcvv12Knz/PRaLBcMw0p+jo6OxWq3/rdixIyxfnrON2rNuDtlsNsLCwq4dZx6yJyZXjF9ERETEEezJcTXCnwfi4uLSk08gPRkdO3askyPLLCoqyuXitCcmV4xfRERExNmU8OeBU6dPpyeh3S8tMwyDuLg45wWVhfj4eJeL056YXDF+EREREWdTwp8HfIsVw2KxABBxaZnFYiEoKMh5QWUhMDDQ5eK0JyZXjF9ERETE2ZTw54GgoKD06SVA+rSTyMhIJ0eWWWRkpMvFaU9Mrhi/iIiIiLMp4c8DAQEBREdHExwcjIeHB8HBwdhsNrp06eLs0DKxWq0uF6c9Mbli/CIiIiLOpio9eSFjRZ2rVddxcpWePN3+9XCl4yMiIiLiRKrSIyIiIiIigBJ+ERERERG3poRfRERERMSNKeEXEREREXFjSvhFRERERNyYEn4RERERETemhF9ERERExI0p4RcRERERcWNOTfgvXrzIqFGjqFatGj4+PtSoUYNx48aRsReYYRiMHj2agIAAfHx8aN26NXv37nVi1CIiIiIi+YdTE/5XX32VWbNm8eabb7J7925effVVXnvtNWbMmJG+zmuvvcb06dOZPXs23333HcWKFaNNmzakpKQ4MfL8zWazERISgo+PDyEhIdhsNmeHJCIiIiIO4tSE/5tvvqFTp060a9eOqlWr0rVrV+677z62bt0KmKP706ZN46WXXqJTp04EBwfz/vvvk5CQwLJly5wZer5ls9kICwsjNjaWlJQUYmNjCQsLU9IvIiIi4qacmvDfddddrF27lvj4eAB27tzJpk2baNu2LQD79u0jMTGR1q1bp7+nRIkSNG7cmC1btmS5zbNnz5KcnJzpIf+JiorCYrGkT5syDAOLxcLYsWOdHJmIiIiIOEJhZ374iBEjSE5OpmbNmhQqVIiLFy8yfvx4evbsCUBiYiIA5cuXz/S+8uXLp792uYkTJxIVFeXYwPOx+Pj49GS/O7AYM+mPi4tzalwiIiIi4hhOHeH/+OOPWbhwIR999BE//PADCxYs4PXXX2fBggXXvc2RI0eSlJSU/jh48GAuRpz/BQYGYrFYAIi4tMxisRAUFOS8oERERETEYZya8A8fPpwRI0bQvXt36taty8MPP8zQoUOZOHEiAP7+/gAcOXIk0/uOHDmS/trlihQpgp+fX6aH/CcyMjJ9Gg+QPr0nMjLSyZGJiIiIiCM4NeH/999/8fDIHEKhQoVITU0FoFq1avj7+7N27dr015OTk/nuu+9o0qRJnsbqLqxWK9HR0QQHB+Ph4UFwcDA2m40uXbo4OzQRERERcQCnzuHv0KED48ePp3LlytSpU4cff/yRKVOm0LdvX8AcfR4yZAgvv/wyt956K9WqVWPUqFFUqFCBzp07OzP0fM1qtWK1WqFjR9ovX+7scERERETEgZya8M+YMYNRo0bx5JNPcvToUSpUqMDjjz/O6NGj09d57rnnOH36NP379+fEiRM0a9aMVatW4e3t7cTIRURERETyB6dO6SlevDjTpk1j//79nDlzht9++42XX34ZLy+v9HXSSkYmJiaSkpLCmjVrCAwMdGLUkhvSmn95eXnh4+ODl5eXmoCJiIiIOIBTE34pmDI2/zp//jwpKSmcP3+en376SU3ARERERHKZEn7Jc5c3/8pITcBEREREcpcSfslzlzf/yvisJmAiIiIiuUsJv+S5rJp/qQmYiIiIiGMo4Zc8d3nzr4zUBExEREQkdynhlzyXqfmXxYK3tzceFkt6lR41ARMRERHJPU6twy8FV8bmX2eWL1cTMBEREREH0Qi/SB5L60Hg4+Oj3gMiIiLicEr4RfJQxh4EKSkpxMbGqveAiIiIOJQSfpE8dHkPgrSbl9V7QERERBxFCb9IHsqqB4F6D4iIiIgjKeEXyUNZ9SBQ7wERERFxJCX8Inno8h4EadN71HtAREREHEUJv0geytSDwMOD4OBg9R4QERERh1IdfpE8lrEHgXoPiIiIiKNphF9ERERExI0p4Xekc+dg4ULYtct8PnfO2RGJiIiISAGjhN9Rzp2D/v05Vqwq1KwJFSpAly7wyy9K/kVEREQkzyjhd5QlSzjS8TECujZl42YPJv9wD/sfehH8/KBiRejfX0m/iIiIiDicEn5H2bGD4q3u4P33YestEbz4IlTtcRdf776JSdtC2ddmACxdaq6rqT8iIiIi4iBK+B2lXj2K/riZHj3gmW0RHDsGi0btYnvFjoweDdV73EmjYc15dcIFfuv+ojnqX7OmRv9FREREJFcp4XeU8HCYPx9iYuD8eYpvW0f3A68xdPfjHDsG/xv9C9WqGERFwS2fTKLBsFD2/ubB3oqh0KfPf6P/IiIiIiI3QAm/o3h5wZw5kJAAI0bAK69Az55gseD7fQwP7p/Eko3+HBswmiWLLnDrrTD+9wgCA6He4BaMn1WKuDhn74SIiIiI5HdK+B3Jywt69IDJk2HFCjh2DF54wfwSMGcOeHlR7I46dPXfxP/+BzOPRxAdDbVuOsor37emZk0IDoZx42D37kvb1Hx/EREREbGDEv68kpb8T5pkPnt5mcszTP0p6nkea+kYFlV6nqOJBp98AnXrmm+pXRtuq5NK1B0r+eXcrXky399msxESEoKPjw8hISHYbDaHfI7IjdB1KiIicnVK+J0t49SfDKP/PiW86NzZHMQ/ehQ+/RTql9rPlF87cFvfO1i3wYPI9aHE3j0QY0nuz/c/fPgwYWFhxMbGkpKSQmxsLGFhYUqmxKXYbDZdpyIiIteghN8VZDf6f4m3N3TsCB80mcnRRIPPPoO4+hG88QYE97udWoNaM2oU7NwJhpE7IcXFxWGxWDAubdAwDCwWC2PHjs2dDxDJBVFRUbpORURErkEJf35Srx5Fvt9M+/bwxNcRHD0KKyf+xF11T/LWW1CvHgQFwYsvwo8/3ljyf+r06fQkqvulZYZhEKc7icWFxMfH6zoVERG5BiX8+cllpT69vonhgT1TeO+rSiQmwhdfwN13w+zZ0KAB3HorjBwJ27dflvzn4MZf32LFsFgsAERcWmaxWAgKCnL0XorkWGBgoK5TERGRa1DCn59kM98fLy+8vOD+++HddyExEb78Elq2hHfegUaNoEYNeO452PbNeYzH+l+z0VdQUFD69AggfdpEZGSkM/ZcJEuRkZG6TkVERK5BCX9+c435/gCennDffeZ3gcREWLPG/O/58+GOpp5U+3I2z64I5XiSB0aL0CwbfQUEBBAdHU1wcDAeHh4EBwdjs9no0qVLnuymSE5YrVZdpyIiItdQ2NkBiGMVLgytWpmPN9+EjT1ns6TUY3z4Ifx5JILNVaCrtTnhx2bRuDt4XDgHS5bArl1Yz5zBunUrdO1K++XLnb0rIlmyWq1YrVbo2FHXqYiISBY0wl+AFC4M93QszszuG/nzTxgQE0HHjrDogwvc9dFTVKliMKReDJv/qYVRsyaUKwft28Mvv6jJl4iIiEg+pYS/oLl042+hjTG0uOs8b3aN4VC7AXy99jxdasex5FgLmg1qwOo1HgwaBBsfmIhRq5bDm3yJiIiIiGMo4S9osrjxt9C7b9O8pSfTg+dy8JAHmzZBYlALbH/dzd1DG7J6jQdPLQ1lQ73BXPw42tl7ICIiIiJ20Bz+gijtxt8ePTIvr1cPjy2baRoaStP7EnnoZQ+++wF+HRfB8uXw1sH6lC96C9ZvzB8Kmjc3pwmJiIiIiOvSCL/8J2Od/9tuw2PzRpo0gYc/j2D/fvj2re08FHqIzz83S35WqAADBsDatXDhgrODFxEREZGsKOGX/2Sc7rNzJ0yZAuvXw/nzWDbE0HjrDF7/pAb79sHWrWY1zy+/hNatISDAnOK/ejWcP+/sHRERERGRNEr4JbO06T5TpoDNBocPX9Hky2KB22+H116D33+H77+Hfv3Mkf777jOT/0cfNb8MKPkXERERcS7NwJbsZTfXPwOLBRo2NB8TJ8KOHWYZ/yVLYO5cKFUKOnc2Zwu1apWhT9i5/+r9s3AhpKbmxR6JiIiIFDga4ZdcY7FA/fowYQLEx5vJ/8CB8M038MADUL68OQ1oxSfnOdvvSbPUZ82a4O8P334LCxao7KeIiIhILlPCLw5hsUBICIwbB7t3w08/waBB5tz/DlZPyn8ym17vhZJ41IOUpq0gMNCcH+Qitf5tNhshISH4+PgQEhKCzWZzdkgOYe9+FpTjkp2CvP8Fed9FRPI9w80lJSUZgJGUlOTsUOSSn/tMMiJfumDUqWMY3fnIKF7cMLZXbG980mmecebLDYaxcGHWb+zQIecfYs+6l4mOjjYAw2KxZHqOjo6+7m1m6QZizA327meeHZfr5eDj6fL770AFed9FRFyVPTmuRvglz9VpHcCYVhv5+WcYvSuCZ5+F/5230uXTPpQNa06PcbWw2eDMmUtvOHfOnOefNt/fwb8AREVFYbFYMAwDAMMwsFgsjB071qGfm9fs3c+CclyyU5D3vyDvu4iIO1DCL3kvrd7/2rXUuuU8o++O4dW2G9jz0zlGdNvHrn+rEhYGZctCt/CLLL1vDv+WqWTO969Y0eHTfuLj49MTm+6XlhmGQVxcnMM+0xns3c+CclyyU5D3vyDvu4iIO1DCL3kvrd7/n3+aRfzXr4e33iLo72948cJYduwtRnw8vPgi7N2WRPiGpygbdjff/+DBx0dDOd2tLyxd6rDwAgMDsVgsAERcWmaxWAgKCnLYZzqDvftZUI5Ldgry/hfkfRcRcQdK+MU5vLygVy+zU1dQEIwZk6nW/623wsiR8EP4RPbuOs/o0fCJdwTdukHZsOZ0HXMbixfDqVOXtpc27WfYMBg8GH755bqn/0RGRqZPWQDSpzJERkbm3v67AHv3s6Acl+wU5P0vyPsuIuIOlPCLc6XV+p80yXxOL9R/Sb163HJkM88/D+N/j+C33yCq1+8cuFiRiAhz2o+1cyoftX6Pk74B8Pff0KkT1KoFFSpc1/Qfq9VKdHQ0wcHBeHh4EBwcjM1mo0uXLrm4485n734WlOOSnYK8/wV530VE3IHFSJuY6aaSk5MpUaIESUlJ+Pn5OTscsde5c2bS3qcPNG0Kmzeb8//nzOGPBC+io2HJrL/47rebKOJ5kTa3Hyf8iZvotrAjnl8sh5gY85eDqzQPu6qOHWH58lzcoTzatr3sjcWVYk+TlzG54v7nlYK87yIiLsSeHFcj/OLa0ub7JyTACy9kmvZTtSo88wx82+VV9v96nolNV1Lv6Jc8/DD0XR1Bhw7w/u/NOLFlt7P3QvKQ6sWLiIhkpoRfXF8Opv1UPriZoY+eJKrcTA4ehEaTIzh+HHr3K0y5WWNo1878YeD4cafsgeQRm81GWFgYsbGxpKSkEBsbS1hYmJJ+EREp0JTwS/6XVuazXDk4cICb49cx+MnzbBq3nkNdhzB5ksHJk9C3r7lK27bw3nvwzz/ODlxym+rFi4iIXEkJv+R/adN+jh0z/7x8OYwYAYcPU3Hhazw9tDBff21WAZ02zWzo9eijUL48tGkD774Lf/112TbzuNmX5A7VixcREbmSEn5xD2nTfurUMbP6yZOvmP4TEAADB/53H+/06XDhAjz+OPj7w733Xvre8OelG4UrVsyzZl+SO1QvXkRE5EpK+KVA8veHJ56AtWvh8GF46y1z+ZNPgn+lwrT6aSqz94Ry9rwHhIaaVYIc2OxLcofqxYuIiFxJCb8UeOXKmaP8q1ebyf/se6MpfFMJnnrKrPZzzz0wM7Y5iZt+dXaocg2qFy8iInKlG074L168yI4dOziu8ifiBsqWhcd6nePLF77myBFo+U4E3t4weKiFCrNH0aIFvPmmOSVIXJPVamXHjh20b9eOHTt2KNkXEZECz+6Ef8iQIcydOxcwk/0WLVrQoEEDKlWqRExMTG7HJ5IjabXXV6xceeO11y9V/SkTG0O/Xuf54vkYjoQ/zdy3L+LrC8OGwc03Q/Pm5n0Ahw7l2m7cMJvNRtWqVfHw8MDDw4OqVate17FQLXv76HiJiIgrszvhX7p0KSEhIQB89tln7Nu3jz179jB06FBefPHFXA9Q5Foy1l5PTU298drrWTT7Kr1gKo88VpiVK+HIEbMKaMmSMHw4VKpkNgGeOhUOHszNPbNP2nHYv38/hmFgGAb79++3+1iolr19dLxERMTV2Z3w//XXX/j7+wPw+eefEx4eTmBgIH379iU2NjbXAxS5FofUXr9Ks69SpaBXL/jsMzh6FD74AG66yawEWrkyNGliFgnav/9G98w+UVFR2b5mz7FQLXv76HiJiIirszvhL1++PLt27eLixYusWrWKe++9F4B///2XQoUK5XqAIteSsfb6okvL8qr2eokS8NBD8OmnZhuAhQvNCkAvvghVq0LjxuZ3hn37MrzJQTX+4+Pj0//cnf/q0AN2HQvVsrePjpeIiLg6uxP+Rx55hAcffJDbbrsNi8VC69atAfjuu++oWbNmrgcoci0Za68vvrTMGbXX/fzMHwM++cRM/hctMuf6jx4N1avD7bfDqxMu8HvEiw6p8R8YGJj+5wj+q0MP2HUsVMvePjpeIiLi6uxO+MeMGcO7775L//792bx5M0WKFAGgUKFCjBgxItcDFLkWV6y9Xrw4dO8O0dFm8v+//5kj/lFRUMM2iQbDQtn7mwe/3hyaazX+r7a/9hwLVzyerkzHS0REXN11leXs2rUrQ4cO5eabbwbgxIkT9O7dm06dOuVqcCI5kbH2ure3t8vVXvf1hQcfhCVL4NiA0SxZdIFbb4Xxv0dw661Qb3ALxs8qRYYZOdcl7ThUqVIlfVlalR57joVq2dtHx0tERFydxUibfJpDr776KlWrVqVbt24APPjgg0RHRxMQEMDnn39OcHCwQwK9XsnJyZQoUYKkpCT8/PycHY4UdAsXmtN4QkP5919YtQqWvHWEzzaX5vRZT+rWNauChoebM36uW8eO5vPy5TlfP6t17V3uTJfH5MgY89NxyW0FYR9FRPIBe3Jcu0f4Z8+eTaVKlQBYvXo1q1ev5osvvuD+++/n2Wefvb6IRQqKSzX+iYmhqOd5rKVjWFTpeY4dMfjkE6hb17zJt1YtuO02cwrQrl3ODlpERETyM7sT/sTExPSEf8WKFTz44IPcd999PPfcc2zbti3XAxRxK1nU+GfOHHxKeNG5s/kDwNGjZtWf+vVhyhSoUwdq14bISPj5Z7DnNzk1hHJtOj8iIpIX7E74S5UqxcFL3YVWrVqVXqXHMAwuXryYu9GJuKOr1PgH8PY2Z0188IGZ/H/2mVnh5403zF8AatWCUaPgp5+unvwfPnxYDaFcmBp2iYhIXrE74bdarfTo0YN7772Xv//+m7Zt2wLw448/csstt+R6gCIFWZEi0L49LFhgJv8rV5qNvd58E0JCICjIrPm/Y8el5P/UKXjqKdi4kVJ79jDI15fCagjlktSwS0RE8ordCf/UqVN56qmnqF27NqtXr8bX1xcwRxOffPLJXA9QRExeXvDAAzBvHhw5Al98Ac2bw+zZ5vSfwFtTGRlk44dfimDUqoV3ixZMs9mIq1mTLaVL8/il5F8NoVyDGnaJiEhesTvh9/T05Nlnn+WNN96gfv366cuHDh3Ko48+mqvBiUjWvLzg/vth7lxITIQvv4RQ729553gYDWMms3bnTeza48H3Je+lyow3ubNyZaZHR7MhMJA6t97q7PAFNewSEZG8c111+D/44AOaNWtGhQoV2L9/PwDTpk3j008/zdXgROTaPD3hvvvgnQpjSHx8DKu/uIBHtSq8cTSCO+6AGo+15Jd9RfmxxH00mD6Dd9q0cXbIghp2iYhI3rE74Z81axbDhg2jbdu2nDhxIv1G3ZIlSzJt2rTcjk9EcqpWLQr7etPaexMtq+/nrX8iWLsW2gYnMONcf+68EwL738uH69uzZQukpgLnzpmlgXbtMp/PnXP2XhQYatglIiJ5xe6Ef8aMGbzzzju8+OKLFCpUKH15o0aNiI2NtWtbVatWxWKxXPEYOHAgACkpKQwcOJAyZcrg6+tLWFgYR44csTdkkYJh/HhYu9Ys5/PXXxQ2ztPSWMvMUi/y1t8RrF8PHRok8NFvd3DXXVClisHQeuvZ/E8tjJo1zYZg/fsr6c9DVquVHTt20L5dO3bs2KFkX0REHMLuhH/fvn2Z5u6nKVKkCKdPn7ZrW9u2bePw4cPpj9WrVwMQHh4OmPcFfPbZZyxZsoQNGzaQkJCA1Wq1N2SRgsHXl2UDB/J5bCzndu4kISSEUy+9BD17UqiwhVBieLPEixxKKMSGDdCldhz/OxpKs0ENWL3Wg8GfhLKxwWBSP16qkX8RERE3YnfCX61aNXbs2HHF8lWrVlGrVi27tlW2bFn8/f3THytWrKBGjRq0aNGCpKQk5s6dy5QpU2jZsiUNGzZk3rx5fPPNN3z77bf2hi3i9mw2G10eeoj2v//Oqn//5eY9eyj97bf88OWXmZp8FfLx4u67YXrwXA796cHGjZAYGkF0NNw9uD43D2jH0yFfs+FYbY38i4iIuIHC9r5h2LBhDBw4kJSUFAzDYOvWrSxatIiJEyfy7rvvXncg586d48MPP2TYsGFYLBa2b9/O+fPn0xt7AdSsWZPKlSuzZcsW7rzzziy3c/bsWc6ePZv+38nJydcdk0h+klVd9wsWC33XrMnySzr16uGxZTPNQkNp9kUED6XCtzN/YOncJJYmNOPNod6s8vLg08qhhIeU5O6Poyn0YBgsWfLfyH94+BWNw0RERMS12J3wP/roo/j4+PDSSy/x77//0qNHDypUqMAbb7xB9+7dr72BbCxbtowTJ07Qp08fABITE/Hy8qJkyZKZ1itfvjyJiYnZbmfixIlERUVddxwi+VXGuu6LLi27al338HBz5B6gaVM8Nm/mru/nc9c9pXl9YjO27YC9YyP4/HOYtb8e5YrWoMu4zYT3r8M9QTXxSBv5nzNHSb+IiIgLu66ynD179mTv3r2cOnWKxMREDh06RL9+/W4okLlz59K2bVsqVKhwQ9sZOXIkSUlJ6Y+DBw/e0PZE8ouMdd0XX1p21bruXl5msp6QkGnKDw0b4rFlM40bw0MrI9i3D7bO2k7vmlv5MvlOWj9bj6/WeND/o1BW3zaUC/+LzpsdFBERketi9wh/RkWLFqVo0aI3HMT+/ftZs2YNNpstfZm/vz/nzp3jxIkTmUb5jxw5gr+/f7bbKlKkCEWKFLnhmETym8jISMLCwtKn9eSorruXF/ToYT7SXDbyb9m8mdu/nc/toWV4deLd/BAL8VFmyc933gmhjM8tdN5gvq1lS7MvgIiIiLgOu0f4jxw5wsMPP0yFChUoXLgwhQoVyvS4HvPmzaNcuXK0a9cufVnDhg3x9PRk7dq16cvi4uI4cOAATZo0ua7PEXFnGeu6e3t7X39d9+xG/hs0wPLNZho2hIjlEfz6K/ww53v63/sHGzaYnX/Ll4e+feGLL3SPr4iIiKuwe4S/T58+HDhwgFGjRhEQEJA+heB6paamMm/ePHr37k3hwv+FU6JECfr168ewYcMoXbo0fn5+PP300zRp0iTbG3ZFCjqr1Zo7pWtzOPJff/N86i+Zw3hP+Okn837eJUtg3jwoWRI6dTLf1ro16Ic3ERER57A74d+0aRMbN26kXr16uRLAmjVrOHDgAH379r3italTp+Lh4UFYWBhnz56lTZs2zJw5M1c+V0TslDbyv3SpOfJfv376DbsWICTEfIwbBz///F/yv2ABlCgBHTuayf+994K3t7N3RkREpOCwe0pPpUqV0iuB5Ib77rsPwzAIDAy84jVvb2/eeust/vnnH06fPo3NZrvq/H0RcbC0kf9Jk8znLKrzWCxQty6MHQu7d5vJ/5AhsH27mfSXKwcPPQSffgopKXkTts1mIyQkBB8fH0JCQjLdLyQiIuLu7E74p02bxogRI/jjjz8cEI6IuJs6dWDMGPjlF/Px7LOwcyd07gxly5rfGz75BM6c4b8Ov8OH51qHX5vNRlhYGLGxsaSkpBAbG0tYWJiSfhERKTDsTvi7detGTEwMNWrUoHjx4pQuXTrTQ0QkO7Vrw+jREBtrjv4//7zZw8tqhbJlDboH/cjSX+vx70sT/uvwe+rUDX0JyKohmcViYezYsY7YRREREZdj9xz+adOmOSAMESloataEl14yH/HxsPSlnSzdUZvwMcUp+hq0axdK18DStOvam2IjnoYHH4TNm+1u9pWxIVl3zB4FV21IJiIi4mbsTvh79+7tiDhEpAALDIQXqizkhYUT+HU//PLSIsb9GkG3JcH4FPmYB3wLEX7E/BLgC+aNwxkrCF1124HExsZiGAYRmAn/VRuSiYiIuJkcTelJTk7O9OerPURErku9erB5M7fcAp3+XcT338NvXZ5lTCQcOADLui+ibFmwTrubjz4yOHny0vtOnYLBg2HLFvP51KlMm42MjEyfxgPkrCGZiIiIG8lRwl+qVCmOHj0KQMmSJSlVqtQVj7TlIiLXJTwc5s+HmBhITYWYGKqf+onn7vyarVthbqtFvPwyJMSfoufKnpQtC53bX+DDBlNIamWFxo3Nwv/33gtPPpn+BcB6333pDck8PDyuvyGZiIhIPpWjKT3r1q1LvyF3/fr1Dg1IRAqojHX+9+wxO/zabPDUU2CxUNQ7lWcaxvBM7HwOLJ9D9GdeLHntIA8njsYrHL4uNZm4P+6mY+nqlAwLM38W6NQJ7r8f66pVZkOyjh1pv3y5s/dUREQkT+VohL9FixbpXXBbtGhx1YeIyHVLq/Nfu7b57OtrfglISPjvS8CcOVS+xYuhQ+Gbuo9z4LfzvPYaHLRUoXe/wpT76gPaT23FgT89OF6/pdkQYORIs8LPrl25Vu7TFanfgLgiXZcizmd3WU6A48eP8/rrr9OvXz/69evH5MmT+eeff3I7NhGRK78EZKzOU6sWlf7YyODB0PX2/Rx6fByTJxkkJ8OnO6pQvjw8MCmU95bfxD/Fq5ilgcqVg/bt4Zln3Cr5V78BcUW6LkVcg90J/9dff03VqlWZPn06x48f5/jx40yfPp1q1arx9ddfOyJGEZGsjR9vFvZftw5SU6l401mevm09X38Nj927n6lT4d+EJB49MIryYc349jsL70Ye5K8nRsErr/xX698Nkn71GxBXpOtSxDXYnfAPHDiQbt26sW/fPmw2Gzabjd9//53u3bszcOBAR8QoIpI1X19YtQqWL4fvvoN//oHISFi3Dm+vVAbWWkeM130k7E5m+nRYU+QBHv/uEfzDm3PvA57MiQ/lWOfHzPsG8rnL+w2A+g2I8+m6FHENdif8v/76K8888wyFChVKX1aoUCGGDRvGr7/+mqvBiYhck68vTJsGTZrAzJnw5Zf/fQFYvhwGDMA/cQdPPAEvRfzO4QMXeOstCD28iCeeAP+wu2g18nZmz4ZLxcj+K/V5331Zlvp0RYGBgemlRyMuLVO/AXE2XZcirsHuhL9Bgwbs3r37iuW7d+8mJCQkV4ISEbluGb8ATJsGDz/8X7nP226jXNxGHn8cXqy+iMREmD00nkJ+vjz1FAQEwD13X2BmyNskNg+HlSvTK/24etKvfgPiinRdirgGuxP+QYMGMXjwYF5//XU2bdrEpk2beP311xk6dChDhw7lp59+Sn+IiDhdWrnPhATYuROmTIH16yE1lbK/xPDYXxP5ansZjhwxVyuyfy+D9w+lwoPNaNHakzd3tSRh0Cvw0kvmXH8XrfZjtVrVb0Bcjq5LEdeQozr8GUVEmD/KPffcc1m+lvbt3WKxcPHixRuPUETkRqVV+unRw0zSM9b6nzMHvLwoUwb69YN+/xvMP1tX8unnHtwU9TRhw2Yw6EJTmvqVIHzLx4Q9W52KNWv+d8Pvpfe7AqvVqn4D4nJ0XYo4n90j/Pv27bvq4/fff09/FhG5UWk1vFesXJkrNbxtK1YQ8uqrrNi3j5BXX8W2YkXmFWrVovQvG3nkEeiQsoQjR2De8N2U9D7D8B97cPODd7HpGw+m7Qjl4AOPm18eHDzyn1Udc2fWNr/Rz3ZU7Kr3LiKSDcPNJSUlGYCRlJTk7FBEJKc6dDAMwzCio6MNwLBYLManl54BIzo6Otv3ZPvfOd3eyZOG0bSpYaxdaxjlypnPTZsaxpAhxolj54z33zeMSQ0+Mry8DAMM486AfcbkRh8Zfyz6xjDatTOM9esNo3dvwzh71u79zUrGmDM+Z7UsfT+usr0bldCo0dU/+xqy25+cvj+vtyu5yIHXpUhBZE+Oe12NtxISEvj444958803mT59eqaHiEhuye0a3jnaXsZSnydOmM+rVkGjRpT4eTMPPwzPbo/g2DH48IVd+Psk88LOblSNaMLXmz14/ftQ/rh/QK6V+swq5jS5dVzsERcXd0PnxFF12VXvXUQke3bP4Z8/fz6PP/44Xl5elClTJv3OezDvvh80aFCuBigiBVfGGt6LLi0zbqCGd463l1bpZ/Fi8xkgPNycsw/QtCl+P2ym55/z6dmpNCdfepUVX3qwfWoEo0bB8JQ7aVS+IuGHoGtXqF79usK9IubuwOLLXk9bdiPHxR6nTp++Ih57Pjur/cmN2B21XRERd2D3CP+oUaMYPXo0SUlJ/PHHH1fM3xcRyS0Za3inJbo3UsP7hraXsdrPCy/8d8Nvw4YU/2kzEREwdKs58r941C9UrWIwZgzUqAENG8LEiXBFq5IczP3Pqo55Rnld29y3WLEbqqvuqLrsqvcuIpI9uxP+f//9l+7du+PhcV2zgUREciy3a3jf8PbSqv1MmmQ+e3mZI/9pdf7Pn8f3+xi6HZjEko3+HDsGH38Mt9wCL78Mt94K9evD+PEQ//M58xeDihUhY9Wfy5L+rGJO44za5kFBQTd0DB1Vl1313kVEsmd31t6vXz+WLFniiFhERDLJWMPb29v7hmt45/b2gOxH/r28KFbM/D7wv//BsWPmtP6aNc3R/qC6XoRsfJNxG0M5+a8HhIZCnz5XzP3Pro65s2qbBwQE3NBnO6ouu+q9i4hkz2JkvAMsBy5evEj79u05c+YMdevWxdPTM9PrU6ZMydUAb1RycjIlSpQgKSkJPz8/Z4cjIjnRsaN5s+yNvOd6tnE5f39ITLyxbWThzBlYFbGApT4Ps3yFB+1PLeLn2yLo2uUi4QenUHve8KzfmNU+5XRZbsm47Rv9HEfF6cj9l+un8yKSq+zJce2+aXfixIl8+eWX6fMis/p5WUREsufjA13CC9Ol4tekzAvlq68iWLIEpkwxGHN6OLW+M38ZCA+HOnXAcv4cLFkCv/wCgwdD4cLQoIG5goiIyDXYPaVn8uTJvPfee+zevZuYmBjWr1+f/li3bp0jYhQRyVNpDZwSjxxxXAOnS3P/vb+NoWPb83zQL4ajXQbwme08t98Ob7wBdetC7VoGo25fxU+nqmOcOwedOsErr0CFCtCli/klwAHNvq6Xml+JiLgeuxP+IkWK0LRpU0fEIiLidDabjbCwMGJjYwGIjY0lLCws9xPXLOb+F5k7k/ZdPFmwAI4cgZUr4c5yv/Pm720JGdCE9X8F8+Laluz4xRMj9B545hnw84Ny5aB9e/O/Fy6E1NTcjTWHMh67lJQUxx07ERGxi90J/+DBg5kxY4YjYhERcbo8beCUVdWfS4oUgQcegHmNZ3MkEb4Ie5e9d/Rg9mx4tf4iAgNh5KoWnDh2DuPDhTBihDny7+8P334LCxbk+ai/ml+JiLgmu+fwb926lXXr1rFixQrq1KlzxU27GskRkfwsYwOnPy8tc2oDp3r18Nq2mfu7+EDFivRtCsfvXsSLt0Xwztup/JH8ElvXdKarvw/hftCwZSssgYHw++9mmc9LFYPygppfiYi4JrtH+EuWLInVaqVFixbcdNNNlChRItNDRCQ/y9jAKS3hd2oDp7Q6/+XKwbx5eG5cR7kyqbzTfS2HOw2gn/UErR/w4r33YPLti6heHX45Uoatv5XB6N3nijKfjqTmVyIirsnuEf558+Y5Ig4REZcQGRlJWFiYmbhempLi1AZOaXP9ly6FMmXMsoa7d8Orr+I5fDitExJoXWkDb81qyfG7FzE6JIIZHzzI2wsfpvJGg65lvya8OtxxBzi6X6LLHTsREQGuY4RfRMSduWQDp7S5/lOmwLRpZq3OFSvMbl47d8KUKRTesJaypVOZ1S2Gt6zrWP/VedrXT2Dhr3fQpAlUqQJDh8I33zjunl6XPHYiImL/CH+1atWuWm//999/v6GARESczWq1YrVaoWNH2rtqo6C0LwE9epg35y5eDFu2wPr1FJr1JqHbNhNacj7TD89h8zazjP///md+X6hYEcLCzNlCd92VuyP/+eLYiYgUMHb/Mz9kyBAGDx6c/njyySdp0qQJSUlJ9O/f3xExiohkK63u+4qVKwts3XfbihWETJ7M5ydOMO7jjzn06KNmuc85cyjk48Xdd8OMGXDoEGzcCF27QnQ0NG8ON98MTz8NGzbAxYvO3hO5EeqBICLZsXuEf/DgwVkuf+utt/j+++9vOCARkZxKq/tusVhINYz0uu/R0dFYnR1cHsl4DC4YBpFxcYzes4fo8HCsl1Xn8fCAZs3Mx5QpZvXOpUvNx5tvmhU9rVbzC8Hdd0OhQpi/HixZAj/8ABcu/NfoS11+XUrG68C4/O+CtaD8bRCR7OTaD7lt27YlOjo6tzYnInJNqvt+/cfAw8OczjNlCvzxhzkbqGdP89aAli3NRr5P9L/I2g5TuVC+olnjv1Mn8wtAqVJmoy8X6/JbkOnvgohcTa4l/EuXLqV06dK5tTkRkWvKWPd90aVlBa3ue24cAw8PuPNOeP11M/n/7jvo3RtWLTtD66+ep0KPUB5/ypPVF1uSenNl80aAESOgVi3zhoD+/ZX0O9nlPRCg4P1dEJHs2T2lp379+plu2jUMg8TERI4dO8bMmTNzNTgRkasJDAwkNjYWwzBYfGlZQav7ntvHwGIxS3jecQe8mhrF9q4TWbqsMCnzFnHfnAge8x2I4V+BrudDuZdpeISGmm9cutS8gVicIuN1EIHZ9Kyg/V0QkezZPcLfuXNnOnXqlP6wWq1ERkby888/66ZdEclTkZGR6VMXgAJZ992Rx8BSvx6NUjbxyiswtfEitm+Hm9o3IeZkA+6/H/rHRNC3L3xxshnnvv/JfNOpUzB4sDlHqGNHGDJE037ygP4uiMjV2JXwX7hwgWrVqjFgwAAiIyOJjIxk1KhRDBgwgJo1azoqRhGRLGWs++7t7V0g67479Bikdfldvx5LaioNTqxjQvJTxM/fwo4d4D8kgs2b4YGOhSn/9lj69DzPyjuiOPdAZ2jc2Ez2jx+HsmU17cfB1ANBRK7GYqRN+suhokWLsnv3bqpUqeKomHJVcnIyJUqUICkpCT8/P2eHIyI50bGj2VHWHbbhCHkZ17lz5nSdUaOgQwcwDPjtN3jmGWjWDGPTZn6etoYlt0WxZNYx9hz3p0QJWFe8I3/OXM59RTZQ5K8/zbuAExIyT/tx1H646nnLK666/64al0g+ZU+Oa/eUnjvuuIMff/zxuoMTEZF8JK3BV5065s26b7wBNhscPgwvvIDlcAJ1l4xm7PhC7GrYi59/PM+QIbD7dBU6doQnOv/JQy/X5NO/m5GyLdbc5rlz5jSfXbs03UdEJA/YnfA/+eSTPPPMM7z55pts2bKFn376KdNDRETcXNqXgEmTzOdL9f4ttWtR55+NjBkDPZvt55df4Pmb3mPnyep07lqYsrPH0qP7RT5pM5szN1WCmjW5WKYMB+vVI7pqVZ4uU4Zinp4u1TRKzaxExB3YXaWne3ez4NegQYPSl6XdHGSxWLioVo0iIgXT+PFw//3mtJ/UVGofXgtGHLFzt7Jn1nqW1hvHkveSWXRgEMW2QYzfJPa/+iv3vz6TsCYhdH7sMabFxZFy6hQrHnuMZWfO0LlnT6ftjppZiYi7sDvh37dvnyPiEBGR/M7XF1atgpdeMov5z5gBnp7w11/U/F8UL3kV5qVTE4jvM4Gln3oSPbUjr8Q8RtGtBu181hM+MJIH3q1JsR828uCLL/Lvq6+azb58fZ2yO1drZqWEX0TyE7sT/vxys66IiDiBr6851//332HZMvNGzYw36tarR+CxzbzwQigcj6df3/MsfXQVS4614MGxfvSauIjTHSMIb/0OD/zymvnlYdo0c57/kiWwYwfUq2dWELo0lchRLm9mtRg1sxKR/MnuhH95NnfYWywWvL29ueWWW6hWrdoNByYiIm4oPNws0Qlw223UOLyREcVmMCLmfn4/CMcf+oZfv/6G7tEz8PZ4h7ZlthHe8ALtVw2i+GPd4cEHYfNmcxtz5jg06VczKxFxF3Yn/J07d870E2eajPP4mzVrxrJlyyhVqlSuBSoiIm7Ay8tM1Jcu5dDKlZyNjaXqbbdRaONGqrdsCTftp+HvW2m8MIIlr/5G9NHm9OhVmCKeM7n/tAfhf0KHDqH4gVkutGvXK0f+c0lkZGT6HH4u/f9NzaxEJD+yu0rP6tWruf3221m9ejVJSUkkJSWxevVqGjduzIoVK/j666/5+++/efbZZx0Rr4iI5HeXqvzc/PHH/DRmDJNiYzn/zDMYa9dCaiqcO0eVGc8w3Octvt17E/v7j2fCeIOjR2HFQ4soWxY6vn43H3wAJ/oMgYoVYcIEKFcO2reHX37JlXKfamYlIu7C7hH+wYMHM2fOHO666670Za1atcLb25v+/fvzyy+/MG3aNPr27ZurgYqIiPvp0q0bdOsGp07B88/Dpk1w6hSW+vXhtdfA15fKd1dlWMWNDBseypl7F9G4XQRL556k18898CzcnfuSPQj/7QId13xCqREjYMoU80tALkz7sVqt5g26HTvSXk2jRCSfsnuE/7fffsuym5efnx+///47ALfeeit//fXXjUcnIuIEabXXV6xc6VK11101rlzh6wtvvQV33w033QQzZ/5XnSc8HObPh5gYfIqkMqReDJsaDubQY1G8/ppBcjJ8+ejHlF/6Jg+83pIDf3rwT3Ao9OljTvvJQ6rbLyKuyO6Ev2HDhgwfPpxjx46lLzt27BjPPfcct99+OwB79+6lUqVKuReliEgeSau9HhsbS2pqanrtdWcnbq4aV55Im/efkAB79pjPc+ZQscUtDKq/ka+/hveqjGXqZIN//4UROyIoXx7un3g37y7wJNP4U1qX3+HDc73Lb8ZzlJKSUrDOkYi4NLsT/rlz57Jv3z5uvvlmbrnlFm655RZuvvlm/vjjD959910ATp06xUsvvZTrwYqIONrVaq8rLidK6+5bu/Z/3X0zjPx7l/Jh4G0biImBKYcjmD4dzh1L4vHVYfj7w333wZyZFzjW6xlzrv9tt8EXX0CjRtCqFQwebE4rugEF/hyJiMuyew5/UFAQu3bt4quvviI+Pj592b333ouHh/n9oXPnzrkapIhIXslYe33RpWWuUHvdVeNyqgwVf0hONufuWyz4N2vGE7U280TwfI58Oodln3uxZAk88ZQHT1reIPTr3XTtVhnrqz0oF7cRFiyABx4wuwSvWnXdjb5Ut19EXJXdI/wAHh4e3H///QwaNIhBgwbRpk2b9GRfRCQ/CwwMNMswYiZs4Bq11101LqdLG/mvUwdsNjh8GF54IX3aT/lKXjz+OKxZA4lPjGVWr2/xqBjAxjd+IKCyJy1fbsnMUi+S+NtpGDvWbPR1nTKeo4hLy3SORMQVKEsXEckgMjIyfSoG4DK11101LpeSlvxPmvTftJ8Myt51K4+lvs1X3xTnvfsWsabfIry8wJg+nQoDOxMaFcqbq27h8OEMb0qb879r1zXn/OsciYirUsIvIpJBxtrr3t7eLlN73VXjylfCw81fADZupIgX3JO4iFWr4IkSHzG3/1aKpvzDsL0DqFgRmjeH6VMu8GfP58wSnzVrQoUK0KULDBuWZfKvuv0i4qrsnsMvIuLu0muvuxhXjSvf8PIyp/107w5//w1lysDatXiknOERaxKP/NKZ43+sYvk6X5YsgWefszD44jTuSoD3k6bgdcs9VHrGgEOHsq3zr7r9IuKKNMIvIiIuwWazERMTQ+KRI1fUsM+1HgS+vmbSf+4c7N4NM2aY3X2/+AJWraJUJV9694YVK+DoE2N4/70LlCkDY/ZEULkyNHkhlCnzSnGgeqhZ53/xYoeV+XRH6lMg4hw5SviTk5Nz/BAREbFXWg375JMnATLVsM/1HgReXuYIfZ06sGwZlCoF06ZdUZ2n5J01ebjaJpYvh7f+ieDDD6F84X/YsTGZKlWg8fDmvB51mj8K1YAJE8xtPvqoWfUnB3P+C5rDhw+rT4GIk+RoSk/JkiXTb0K6losXL95QQCIiUvCk1bAnixr2aX/Oqr69Q6c4hYeb03YAv6ZN6RmwkZ63vM8F379o27snS8bGMepQf4ZHFKJRIwgPD6XrvZ5U//Urc85/NtN+Cqq4uDjnnEcRyVnCv379+vQ///HHH4wYMYI+ffrQpEkTALZs2cKCBQuYOHGiY6IUERG3lrGG/Z+XlmWsYe+UHgQZ6/yPGAGxsTB8OIXfeIOIgBgiykVy6ps1rPyqEAlTFvHimAieP9OUBuWrsLj0j1huDuWWPpjTfgoVgh07oF4984tEAfwCcOr0afUpEHGSHCX8LVq0SP/z2LFjmTJlChEREenLOnbsSN26dZkzZw69e/fO/ShFRMStBQYGEhsbC4aRnvCn1bA3DIPY2FgMw8j7HgRppT579DCn5yxdCnv2mHX++/bFd+dmunULhYWL6L8ugs9f+5klXxZn/I8RLLgV6gU3J/zkPLpG1SVwwoOwaZNZ6ScoCBo2LFDJv2+xYlhOncIwDCIwE371KRDJG3bftLtlyxYaNWp0xfJGjRqxdevWXAlKREQKlrQa9mky1rB3mfr2acl/7drmc0QEzJ8PMTGQmkqxb9cS/tMoPv46gJnHI1i6FIIu7mLC4T4E9WpMSCNPXt58D3vCR5kj/RUrQr9+5pz/AnDTb9qXN6efR5ECyO6Ev1KlSrzzzjtXLH/33XepVKlSrgQlIiIFS1oNez8/vytq2LtsD4K0KT8JCeao/59/mjf+fvMNRT3PE1YmhsVlnuLYEQObDR4ttohXX4Vaj9xJ3WfuZez6ZuxKKAk33/zfTb/9+7tt0h8QEKA+BSJOYncd/qlTpxIWFsYXX3xB48aNAdi6dSt79+4lOjo61wMUEZGCwWq1miPmcEUNe5ftQZA26r94MfTqZdb4X7oUXngB6teHvn3x+WEzXbqEwrxFPHYsgi9fj+XQB+t4YdITRJ6ZQe1E6NrVvOm3Tm+wLF1qLliyxO3m/atPgYhz2J3wP/DAA+zdu5dZs2axe/duADp06MCAAQM0wi8iIgVbxjn/YI7WX6r0Q2oq3t+so9Ov78Otf/HoA4f56u6XWbqsMIcmLaLu2AhqBrUgvORqui4eS92hrbE8+CBs3qxqPyJyQ66r8dbNN9/M+PHj0+sjjx8/Xsm+iLiEXGvQJDfk8OHDdp+HtMZb9r7nuj9nxQp8fHyybPSVazJO+9m9G155BXr2BKCIXxE6FI9hwQKY03IRK1bAndUSmbGjGSGfvUzNAaG8FOXJjpKhGL37mL8cgPklQs2+RMQO191p999//2XPnj389NNPmR4iIs6S6w2a5LrYbDa2ff+9XechY+Mte99z3Z9jGKSkpADw008/Oe5aSRv1r1PHbOF77Jg5579GDXj/fYiJoRCptCsWw7zyIznyeCSfL79As2aQOG0R9etDYP8WvDC9PD98dx7jsf7mfP8JE6BCBbPqz7BhSv5FJFt2J/zHjh2jffv2FC9enDp16lC/fv1MDxERZ0lr3pRVYx/JO1FRUQB2nYf0xluX2POeG/mcjPLkWslY6adXL3j33f9u+k1IgDlz8LqjHm2Lb2LuXJgTuohVqyA06DBzfmlKwzs9uWXNLJ7/IpTvd3pihN4DzzxjzvMvVw7at4dfflHyLyKZ2J3wDxkyhBMnTvDdd9/h4+PDqlWrWLBgAbfeeivLdQOOiDhRxuZNedqgSTKJj49P/3NOz8P1nLvcek9Wjb7yzOWlPr28zBt0L5X79CCVNkVieOemFzic6MHq8Dm0fsCL996Dybcvonp1GL6yBVtX/YPx4UKzQVitWm5f8UdE7GN3wr9u3TqmTJlCo0aN8PDwoEqVKjz00EO89tpr6rQrIk4VGBiYPnqb5w2aJF1gYGD6n3N6Hq7n3OXWey5v9OV0l5f7vDTy71nMi9adivF2z40cPgzTmyzi/vvh/XkXmbqoPFW/nM0zK1vyT5IHRotQ6NPHnPevOf8iBZ7dCf/p06cpV64cAKVKleLYsWMA1K1blx9++CF3oxMRsYPLNGgq4NKOtz3n4WqNt671nhv5nIxc6lrJauQf0kf/C2+KoWzpVGaFryOh/ePMCJhI+y6eLFwIAzdFUKUKDP2kOd989jepjz3+35x/jfyLFEh2J/xBQUHpP3mGhITw9ttv8+effzJ79mwCAgJyPUARkZxy2QZNBYzVauX2Ro3sOg8ZG2/Z+57r/RxPT0+8vb3xsFjSq/S4/LWSRdWfQg/34KbyhXgrfAN//glPbIigUyf438ILNF38NJU/n83gT0LZ9J0nqXeHmlWChg/XiL9IQWLY6YMPPjDmzZtnGIZhfP/998ZNN91keHh4GN7e3sbixYvt3Zxx6NAho2fPnkbp0qUNb29v47bbbjO2bduW/npqaqoxatQow9/f3/D29jZatWplxMfH53j7SUlJBmAkJSXZHZuIOEmHDs6OQC5n7zm53nOYV+c+4+fkxr7lZBtX+8zs3n+17XboYBhnzxrGwoWGUb26YbRrZxjr1hnGuXOGsX69cbFXH2Pjg9ONQU9dMCpWNIzufGQEBKQaTwV9ZWyY8r1x4Yy5ntG7t7kdR7uRYy4iV7Anx7V7hP+hhx6iT58+ADRs2JD9+/ezbds2Dh48SLdu3eza1vHjx2natCmenp588cUX7Nq1i8mTJ1OqVKn0dV577TWmT5/O7Nmz+e677yhWrBht2rRJL6UmIu5DNfTF0TJeY1WrVqVq1ap5er3l+jWeseSnzQaHD5tdfhMS8HjnbZp1LM0bYRs5cADearqIbiF7WPZPc1oMa8jN1TwZuCSUtXWf5uLH0f/N9R82DAYPNqv/uMgvADabjapVq+Lh4YGHhwdVq1bVvw8i9siDLyDZev75541mzZpl+3pqaqrh7+9vTJo0KX3ZiRMnjCJFihiLFi3K0WdohF8kf4iOjjYAw2KxGJ9eegaM6OhoZ4cmhuEWI/yXX2Nceth9vV3nCH9Co0bZX+PXO8J/rfXOnjVH8NevN4x27YyLDz9sXEw5Z2zZYhgfPPCRUbmyYYBh3FTkuDEgcK2x9tVtxvmH+hjG2rXmLwXr1uXeLwDXOcKfdt6yeujfBynI7MlxC+fkS8GwYcNy/AViypQpOV53+fLltGnThvDwcDZs2EDFihV58skneeyxxwDYt28fiYmJtG7dOv09JUqUoHHjxmzZsoXu3btfsc2zZ89y9uzZ9P9OTk7OcTwi4jxXq6lutVqdHJ24g8uvsYzy4nqLi4vL/hqvXNkhn5k+53/pUtizhy8sFu7dsJ4777uPOwstoucfEXwz41umRP7MquSezH7eh7Il36ZLUS/CUyE09B4KWyzm+7t2hSVLYMcOs+5/ePh/NxM7UFpfh6zo3weRnMlRwv/jjz9m+u8ffviBCxcupJcvi4+Pp1ChQjRs2NCuD//999+ZNWsWw4YN44UXXmDbtm0MGjQILy8vevfuTWJiIgDly5fP9L7y5cunv3a5iRMnXvUfBxFxTaqhL46W1TWW8c+Ovt5OnT6d/TXuqIQf/pv2s3gxEV99xaqnn6bRjBl4hYdzfvVXWN56mh4lzrI0vjfb+71B/D838dLqniTPWUT3MhF06XQ34Sfe4Z5VT+DZ92F48EGIiTGbfNWtCw0aODT5z9jXIW2YL62kqv59EMmZHCX869evT//zlClTKF68OAsWLEifa3/8+HEeeeQRmjdvbteHp6am0qhRIyZMmABA/fr1+fnnn5k9eza9e/e2a1tpRo4cmekXieTkZCpVqnRd2xKRvBMYGEhsbCyGYaiGvjhEVtcY5F3PBt9ixbCcOuXUa7xaUBD3/PQTfcLCaFmqFOuOH2f+qVOMrlULyzebaXT/TTSaOZOI33qSFLqIV++KYMn7Z3k34XFK+/Wls6cnXZPP02rJYrxGjIDmzWHzZrPU55w5Dkn6AwMD+emnnwCIuLQs7fjp3weRnLH7pt3JkyczceLETDfWlipVipdffpnJkyfbta2AgABq166daVmtWrU4cOAAAP7+/gAcOXIk0zpHjhxJf+1yRYoUwc/PL9NDRFyfauiLo11+jWWUF9dbUFCQ06/xyMhIzgHvnD5N94MHeef0ac4BdcaMMbv7lisHBw5gWb+OksVTmXjfeva2foIfe77OE096sGkTvN9pKeWXzeaRD1qy8itPzt0V6tAmX9fqqyAi12Z3wp+cnJzebCujY8eOcfLkSbu21bRp0yt+jouPj6dKlSoAVKtWDX9/f9auXZvp87/77juaNGlib+gi4sJUQ18c7fJrrEqVKlStWjXPrreAgACnX+PZ/T3r/OCD5gj9sWPmKP3y5Wad/8OHsbwzh3ptA3i5zUb27IG3b36Zpwd58O238GH7RZQrB73n3s1n//uXs/2ezPUmX2kxp+UGQHqVHv37IJJD9t4R/PDDDxtVq1Y1oqOjjYMHDxoHDx40li5dalSrVs3o1auXXdvaunWrUbhwYWP8+PHG3r17jYULFxpFixY1Pvzww/R1XnnlFaNkyZLGp59+avz0009Gp06djGrVqhlnzpzJ0WeoSo+ISC5wgyo9uSY36vDn9LUbrdKT021ltV7G9TNW+6lXzzDWrjVSUw0jKbSDERlpGLWrnDLAMPyKnTceesgwli0zjDNnDHP9BQsM48MPDaNGDfP57Nkbuz7ywzUikgdyvUpPRrNnz+bZZ5+lR48enD9/HoDChQvTr18/Jk2aZNe2br/9dj755BNGjhzJ2LFjqVatGtOmTaNnz57p6zz33HOcPn2a/v37c+LECZo1a8aqVavw9va2N3QRERG5Hhmr/SQnw5QpWCwW/IqlMiY0hjF/zGcXtVla5RmW2ODCh4t4yDeCDu3uJjx2NPdPuQ+fmjWhQgXo0gX27DGn/ORRpR+Rgs7uKT1FixZl5syZ/P333/z444/8+OOP/PPPP8ycOZNixYrZHUD79u2JjY0lJSWF3bt3p5fkTJNWsiwxMZGUlBTWrFlDYGCg3Z8jIiL2UzO0/2R1LJxxfJx2TjI0+frk4YcZ9+STJKxbx7gnnuCTtm2pfW9FRt+zkdhYmHPPIp5/Hn7ZdhrrrpcpG3Y33//oQfQ/9/DvwOHg52dO+Xn0UViwIFfn/BdkadeGj49Pgf/7KpfJg18cnEpTekRErs8NNUNzsyk92R0Lu45PLkzpyS6OhEaNrr0TNzKlJ4PsGojZFi/O1OTLWL/eMEJDjbgfTxvjxxvGiCofGWAYRYumGtuKtTA+/tgwTi1faxijRxvGqVOG8dJLhtGwoWEMHGgYJ09mH5uLXiPOlvHawN6/r5Iv2ZPj2j3CLyIiBcPVmqEVNFkdizR5eXyyOydxGWrVO1p2DcSiJk40p/0kJJhTdhISoE8fAk9s5YUXYOIfEezdC6N67sPm05MHH4Sy3e6h60dW/vfAAk7ddR9s2WJO+bn/fjh1Ks/2yR3o76tcjRJ+ERHJkpqh/Se7pl1p8ur4ZHdOTuVhcnzVBmJp035q1zafIyLMcp8xMXD+PLccWMeIc2OZ8Gdvfv0Vxjz8O/uTS7Hs61KUtTbH2s2TRUdbcXLEeHjppf8+NK3c565dcOiQpv5kIeO1kdagrKD+fZUrKeEXEZEsBQYGpteML+jN0LI6Fhnl1fHJ7pz4+vo67DMv51usWM6vi7SbfRMSYMQIeOUV6NkTLBZq/LGW544+y7aH3mBuy4WMGwfdNz9Njx5QtuvddP4onIULIfmvc2Z5z3LloHhxs3Ro+/b6BeAyGa+NtAZlBfXvq1xJCb+IiGRJzdD+k9WxSJOXxye7cxKUh8Us7G4gljbqP3kyrFhhJuwvvAB//gm+vlC0KEXP/MOzz8KDliX88QdMeORXjhSqyEMPQdmAQnSMm8QHY/dx3qsohISYXx66d9dIfwb6+ypXo4RfRESypGZo/8nuWOT18ckujoCAAId95uVuqIFYWvI/aRL06gVz50K1auZUnTVrwDCo8ts6hsU+wpa9N3HgALzafAV//2XQa1N/+m5/iu+2ebDgYEtOPPqsWSZUgMzXhoeHR4H++ypXsrsOv4iIFBxWqxWr1ersMFxCdscir49PlnHMm+f8GK6Hlxf07Wsm7itWwIkTZpffVavA15dKvjCk3ymGfDWcP1e/S/TyCL6YCWMfgcKFW9D65j2En4VOnaB06QzbPXcOliyBHTugXr0CU+8//bx07Ej75cudHY64EI3wi4iIOIn6HFxSuDBMmwalSpnPGe9JCA+Hw4ep+PtGBg2CMXsiOHQIpgzYy7/epenXD8qXNwv7zJ0Lfx++NOe/QgWYMAH8/c3KP/lszr9q6ktuUsIvIiLiBDabjbCwMGJjY0lNTSU2NpawsDAldpfz8gKbDaZMMaf9nD9Phbj1PJU8gZgdpUhIgDfeMAf1+/eH8jcX5r6fp/DOr/dw7IQntGoFzzwDVmu+mfOf8dpISUnRtSE3TAm/iIiIE6huuh18fc2k/+hR84bfw4fN6j9eXvj7w5NPwrp1ZjGgN1t+QmqJkgwYAEPKL6J1a3h7TwuOlgzMN3P+dW1IbtMcfhERESdQnwM7pd3w26NHtquULw8D+qQwwH89xxa34t/Wi1h4BAY+3Z0njem0+PZ3wpPMGT7+/nkYu50ur6m/GF0bcmM0wi8iIuIE6nPgIOHhMGUKZWPXUaVSKi/4vUli+NO8PWQPXqWKMmiQOb0/NBTeesv8scDVqKa+5DYl/CIiIk6guukO4uUF//uf2eRr5074919u6teJR/95jVXbbiIxEd59F4oWhSFDoGJFuPtumD7dbA3gCnRtSG5Twi8iIuIE6nPgQL6+ZpnPcuXg5Emz2delOf9lypiVQD//3LwlYN488PODZ5+Fm2+GZs3MQkGHDmXY3rlzsHAhDB9uPjv45l/V1Jfcpjn8IiIiTqI+Bw7k5WUO31esmO28/1KloHdv83HiBHz2mVm+//nnYehQaNIEuna+QNetI6j8VEd48EGIiYEHHoDixcHTE9q1g4iIXK/zr5r6kps0wi8iIuJA+aXWfnqcK1bg4+PDihUrXDre3FayJDz8sNn36+hR+PBD8weCF16yUCV6CneOCOX1yRb+mPm5mewPGgQLF2JUqMCp229nV1AQO4YOzTelP6VgUcIvIiLiIPml1n5anD/99BOphkFKSgqphuGy8TpaiRLQsycsWwZHB0Ty0fsXqFABYl9aTLVlU7l99wJe23YPvx/0xHLvvfhOmULt7t0J3rePU61bw7BheTL1RySnlPCLiIg4SH6pp54W5+VcNd685Ne4FhGVNmGzwdzKY1nc7gOq1Pbll5cW8WKNRTRsCK98G8pvCT54DBlCsRYtoF49cypR//5K+sUlaA6/iIiIg+SXWvtZxenK8eap8HAzcQcKlyhGt/rxdGv1NRfOLuLoERhSPYJxL8POlCrs2daCcN9/CT8cy63v9jLfv3TpVXsHiOQFjfCLiIg4SH6ptZ9VnK4cb57y8jIr/CQkQHIybN8Ob7xB4eN/UcE/lY/7r+FYl8eZ3HAhQaWPMWFrK0bPrUxICLy8oTlxaw9d+zNEHEwJv4iIiIPkl3rqaXFezlXjzXNpXX7r1DEn9nfpwrn4eC5s2EDq2rUUfecNKnj9w6ISj3Ms7AmmNFxInTrw6qsGNd97jrp1YexY2L3b2TsiBZUSfhEREQfJL7X20+IMCQnB09MTb29vPD09XTZep/Lygl698LrrLo4FBfHKsmX8UK8eybGxnE5MxKdvBAH+8FH/GI6FPcGyJecJCYHXX4fatc3vDGPGwM8/QxbfsUQcQnP4RUREHCi/1NrPL3G6koAKFXghrUZ+x47mfP2lS2HPHkhIwHvuW3Ty8qRTVzh7Fr76yqzzP3UqREVBzZrmLQLh4XDbbZDFfdMiuUIj/CIiIiK5IW3qT+3a5nOGZlxFikCHDvD++2ad/xUroHFjmDEDgoPN5P+ll2Dnzksj/2ndfXftUolPuWFK+EVERNxYfmj8dfjwYUJCQkg8csRlY8xNRYqYDXrnz4cjR+Dzz6FpU5g506zoGXirwQuNvuSH00EYNWuqxKfcMCX8IiIibio/NP6y2Wxs+/57YmNjAVwyRkfy8oK2beG998zkf9UqCK30G3P230/Dxxuxdr0HI1aF8n2TpzGWLP1v5H/4cI38S44p4RcREXFT+aHxV1RUFIBLx5hXPD2hTRt4p9HbHD5szvn/484I5s6F2wc0pMaTbXiuwRq2JtfEGD9BI/+SY0r4RURE3FR+aPwVHx+f/uc/Lz27Wox5rl49PLdu5t574dG1ERw+DGte30GbKrtZkNCaxk82pFqgJ8+uCOXbOwaZI/+gef+SLSX8IiIibio/NP4KDAxM/3Nawu9qMea58HBzgn9MDJw/T+FNMbSKncasez8hIcHCunUwOnARH34ITQY2oMoTbRk2+CLfdH6N1ICK5h3AGv2XDJTwi4iIuKn80PgrLRZXjjHPZezu+8IL5vOcOdCgAYW+3cw990Bf70X8+SfETP2RTk2Osvj9szT94iUq9wrl510ebCocSmqvPmaZUCnwlPCLiIi4qfzQ+MtqtXJ7o0YEBwfj4eHhkjE6RVqJz0mT/ivxmXHkPzWVQhtjaLHjDWZ8Vo1D/cbw9boLhIXBzOMRNG8ONz/Ugqdfr8zXX8PFi87dHXEuNd4SERFxY/mhoVZAQAA7li+Hjh1pn9bISq6UNvKfobkXc+aAlxce9UNobtlE8zdCSZ0awUPfwpKph1i6rj5vtgB/f7Baze8MzZtDoYvnzC5gO3aYtUDDwzP1DRD3ohF+ERFxuvxQK76g0zlyEdk198ow+u9x8Tx3nYtharFR7P/Tky1bzFVXrIB77oEKFQyeqLuJdUfqcGGsqv0UBEr4RUTEqfJDrfiCTucoH8hm3r+Htxd33gmTJ8Mff8B330GvRrv5IukuWj1TjwpVPHl8UShr6g7lwv+i/9ue6v27FSX8IiLiVPmhVnxBp3OUT2Q17z8DiwXuuAMm1Z7HvgOF2LYNpjVexOrVcO+zIfg/3pHHHoOvVp7n/KNPmCP/E/QLgDtQwi8iIk6VH2rFF3Q6R26mXj0s32ymUSPoYVnEb7/B9re/57HWf7B+PbRp74n/p7Pp90Eoq9Z6cu6uUOjTRxV/8jEl/CIi4lT5oVZ8Qadz5GYuq/Zj2RBDg2/eZOLSW9m7F37sNZUBT3iwcSMsaLsIf394ZN7dfB59RoP8+ZQSfhERcar8UCu+oNM5cjMZ5/tfVu3HYoF695Vj/P0biYuDt1ssYuBA2LI+hXa2fpQrB717mzcAnz3r7B2RnFLCLyIiTpUfasUXdDpHbii7aj+Q/guAZUMMfr6pjGsVw+57niT2h/MMHgzbtkGHDlCuHDz8MCxfDikpTtsTyQHV4RcREafLD7XiCzqdowIki3r/lnfmcJuXJ7fVh6go2LXLLOO/dCl8+CEUL25+CejaFe6/H3x8nL0TkpFG+EVEREQks6v9AoC5ODISYmNh926zeufPP5vNvcqVg4gIiI6Gf//N8KZTp2DwYLjvPvP51Km83acCTAm/iIiIuB2bzUZMTIxDGoU5cts5+WxXa4BWsyaMGgU7d0JcHIwYYf4w0LWrmfx36wZLPjjD6Xs7Q6dOsHKl+Xz//Vck/Wn75+Pj4zL75w6U8IuIiIhbSWsUlnzyZK43Cstu24cPH86FyHP22a7cAC0wEF58EX78EeLjzT//+is82MuHcju+JHxWSz7+xJNTd7SEsWPhpZfS35tx/1JSUlxy//IrJfwiIiLiVtIahaXJzUZh2W07Lj7+hred08/OLw3Qbr0VRo6E7dvh16a9iRxtdvs90u1pypWDsBmhLFpbjpMnzfWjoqLwAvoXK8biypXpX6wYXuCy+5ef6KZdERERcSuObBSW3bZP5cF89PzcAK1Gw5I813gDz41syYWySzj7/AyWzD1Jjz0vUKQstG0L8bvqs6JGIVrMfAWvI0foUr48vZ5+mvv37HF2+PmeRvhFRETErTiyUVh22/b19b3hbV/vZ+eLBmjjx8Po0bBuHYU9DJ5tsI7vyrTjj19OM2ECJCZCyoX5dDiwjfC37uPg1CWcaXwfjWbM4Lnq1Z0dfb6nhF9ERETcSlqjsDS52Sgsu20HBQbe8LZz+tn5sgGary+sWmUW7T9xwnxetYoqtYsxbBhs2QLfdRjIKxPhr7/guR8jzGk/b7SmmN/TnDjh7B3I35Twi4iIiFtJaxTm5+eX643Cstt2QEBALkSes8/Otw3QfH1h2jQoVcp8vuxXkTu63cXT9WLYvBkmHYxg0iQ4fiCZZ7YOoFw5aNcO5s2Df/5xSvT5mubwi4iIiNuxWq0wfz5nli/Pm23Pm5frn5PdZ7ttA7TwcAr17w+FCnFz06YMCt7MoIbzSfhsDrYVXixZAv36Qf/+0KqV2RC4c2coU8bZgbs+jfCLiEiuccUa4flRTo9jfj/e6fGvWIGPjw8rVqzIl/uRJr+fD6dL6/CbkAAvvGA+z5lDhapePPUUbNhgLnrjDTh71kz8y5c3+3i98445FUiyYbi5pKQkAzCSkpKcHYqIiFuLjo42AMNisRifXnoGjOjoaGeHlq/k9Di69PHu0OGaq6TFDxifZnjO1f3IQRzXvb3Ltp3QqJHrno+rudYxyu1jaBiGUb58rmwmMdEwZs0yjJYtDcPDwzAKFTKMVq0MY/ZswzhyJFc+wqXZk+NqhF9ERHJFfqsR7qpyehzz+/G+vJ59mvy2H2ni4uLy9fnIj8qXhwEDYO1as8rPzJlgscDAgRAQAC1bwqxZcOSIsyN1PiX8IiKSK/JzjXBXktPjmN+Pd1bx58f9SHPq9Ol8fT7yu7JlzSk+q1ebyf/bb4OnJzz9tJn8h4bCW29BHjREdklK+EVEJFfk6xrhLiSnxzG/H++s4s+P+5HGt1ixfH0+3MlNN8Gjj8KXX5qj++++C0WLwpAhULEi3H03zJgBf/7p7EjzjhJ+ERHJFfm6RrgLyelxzO/H+/J69mny236kCQoKytfnw12VKQN9+8Lnn8PRo/Dee+DnB888AzffDM2amTcBHzrk7EgdSwm/iIjkinxfI9xF5PQ45vfjnRZ/SEgInp6eeHt74+npme/2I01AQEC+Ph8FQalS0KcPrFhhJv8LFkDp0vDcc1CpEtx1F0ydCgcOODvS3Gcxsvp67UaSk5MpUaIESUlJ+Pn5OTscERER99exo9lJ1dlyO46M27t8266yz/a6VtyO2C9/f3OivYtISoLPPoOlS81mwGfPQuPGZp3/sDCoWtXZEWbNnhxXI/wiIiIiOeQutfavtR/usp85UaIEPPQQLFtmjvwvXAgVKsBLL0G1anDHHfDaa7Bv32VvPHfOXHn4cPP53DlnhJ8jSvhFREREcuDw4cOEhYURGxtLamoqsbGxhIWF5btk2GazXXU/rvW6O/Pzgx49wGYzk//Fi6FyZRgzBqpXh0aN4JVX4Lfd58yyQBUrwoQJ5nP//i6b9CvhFxEREckBd6m1f60eDvm9x0NuKV4cunUzp/ocPQr/+5+Z9I8bB7fU9qLBNzOY8E0o+xM8zbqfffqYK7sgJfwiIiIiOeAutfav1cMhv/d4cARfX3jwQfj4YzP5X9LhfQLrFWPCBNj/yqWj1LQp/PijcwPNhhJ+ERERkRxwl1r71+rhkN97PDhasWLQtVshFj/5NUePQtODlxL+zZuhfn3nBpcNJfwiIiIiOeAutfav1cMhv/d4yBPh4TB/PkW3xlCIVIiJgfnzoWtXZ0eWJSX8IiIiIjngLrX2r9XDIb/3eMgTXl4wZw4kJMCePebznDnmchekOvwiIiKSu1ylJr0j6/A7+rPcmYvV4b9hTjr3qsMvIiIiIiKAEn4RERHJJQWpWZNIfqKEX0RERG5YQW7WJOLqlPCLiIjIDVOzJhHXpYRfREREbpiaNYm4LiX8IiIicsPUrEnEdSnhFxERkRumZk0irksJv4iIiNwwNWsScV1OTfjHjBmDxWLJ9KhZs2b66ykpKQwcOJAyZcrg6+tLWFgYR44ccWLEIiIikh2r1cqOHTs4c+YMO3bsULIv4iKcPsJfp04dDh8+nP7YtGlT+mtDhw7ls88+Y8mSJWzYsIGEhASsVqsToxURERFXp34ArintvCQeOaLzkscKOz2AwoXx9/e/YnlSUhJz587lo48+omXLlgDMmzePWrVq8e2333LnnXfmdagiIiLi4tL6AVgsFlINI70fQHR0tAYNnSjjeQF0XvKY00f49+7dS4UKFahevTo9e/bkwIEDAGzfvp3z58/TunXr9HVr1qxJ5cqV2bJlS7bbO3v2LMnJyZkeIiIiUjCoH4Br0nlxLqcm/I0bN2b+/PmsWrWKWbNmsW/fPpo3b87JkydJTEzEy8uLkiVLZnpP+fLlSUxMzHabEydOpESJEumPSpUqOXgvRERExFWoH4Brynhe/ry0TOcl7zg14W/bti3h4eEEBwfTpk0bPv/8c06cOMHHH3983dscOXIkSUlJ6Y+DBw/mYsQiIiLiytQPwDVlPC9pCb/OS95x+pSejEqWLElgYCC//vor/v7+nDt3jhMnTmRa58iRI1nO+U9TpEgR/Pz8Mj1ERESkYFA/ANek8+JcLpXwnzp1it9++42AgAAaNmyIp6cna9euTX89Li6OAwcO0KRJEydGKSIiIq5K/QBcU8bz4uHhofOSx5xapefZZ5+lQ4cOVKlShYSEBCIjIylUqBARERGUKFGCfv36MWzYMEqXLo2fnx9PP/00TZo0UYUeERERyZbValXlFxeUfl46dqT98uXODqdAcWrCf+jQISIiIvj7778pW7YszZo149tvv6Vs2bIATJ06FQ8PD8LCwjh79ixt2rRh5syZzgxZRERERCRfcWrCv3jx4qu+7u3tzVtvvcVbb72VRxGJiIiIiLgXl5rDLyIiIiIiuUsJv4iIiIiIG1PCLyIiIiLixpTwi4iIiIi4MSX8IiIiIiJuTAm/iIiIiIgbU8IvIiIiIuLGlPCLiIiIXIXNZiMkJIQVK1cSEhKCzWZzdkgidlHCLyIiIpINm81GWFgYsbGxpKamEhsbS1hYmJJ+yVeU8IuIiIhkIyoqCovFgmEYABiGgcViYezYsU6OTCTnlPCLiIiIZCM+Pj492V90aZlhGMTFxTkvKBE7KeEXERERyUZgYCAWiwWAxZeWWSwWgoKCnBeUiJ2U8IuIiIhkIzIyMn0aD5A+vScyMtLJkYnknBJ+ERERkWxYrVaio6MJDg7G29ub4OBgbDYbXbp0cXZoIjlW2NkBiIiIiLgyq9WK1Wp1dhgi100j/CIiIiIibkwJv4iIiIiIG1PCLyIiIiLixpTwi4iIiIi4MSX8IiIiIiJuTAm/iIiIiIgbU8IvIiIiIuLGlPCLiIiIiLgxJfwiIiIiIm5MCb+IiIiIiJ1sNhshISGsWLmSkJAQbDabs0PKlhJ+ERERERE72Gw2wsLCiI2NJTU1ldjYWMLCwlw26VfCLyIiIiJih6ioKCwWC4ZhAGAYBhaLhbFjxzo5sqwp4RcRERERsUN8fHx6sr/o0jLDMIiLi3NeUFehhF9ERERExA6BgYFYLBYAFl9aZrFYCAoKcl5QV6GEX0RERETEDpGRkenTeID06T2RkZFOjixrSvhFREREROxgtVqJjo4mODgYb29vgoODsdlsdOnSxdmhZamwswMQEREREclvrFYrVqvV2WHkiEb4RURERETcmBJ+ERERERE3poRfRERERMSNKeEXEREREXFjSvhFRERERNyYEn4RERERETemhF9ERERExI0p4RcRERERcWNK+EVERERE3JgSfhEREZHrZLPZCAkJYcXKlYSEhGCz2ZwdksgVlPCLiIiIXAebzUZYWBixsbGkpqYSGxtLWFiYkn5xOUr4RURERK5DVFQUFosFwzAAMAwDi8XC2LFjnRyZSGZK+EVERESuQ3x8fHqyv+jSMsMwiIuLc15QIllQwi8iIiJyHQIDA7FYLAAsvrTMYrEQFBTkvKBEsqCEX0REROQ6REZGpk/jAdKn90RGRjo5MpHMlPCLiIiIXAer1Up0dDTBwcF4e3sTHByMzWajS5cuzg5NJJPCzg5AREREJL+yWq1YrVZnhyFyVRrhFxERERFxY0r4RURERETcmBJ+ERERERE3poRfRERERMSNKeEXEREREXFjSvhFRERERNyYEn4RERERETemhF9ERERExI0p4RcRERERcWNK+EVERERE3JgSfhERERERN6aEX0RERETEjSnhFxERERFxY0r4RURERETcmBJ+ERERERE3poRfRERERMSNKeEXEREREXFjSvhFRERExOFsNhshISGsWLmSkJAQbDabs0MqMJTwi4iIiIhD2Ww2wsLCiI2NJTU1ldjYWMLCwpT05xEl/CIiIiLiUFFRUVgsFgzDAMAwDCwWC2PHjnVyZAWDEn4RERERcaj4+Pj0ZH/RpWWGYRAXF+e8oAoQJfwiIiIi4lCBgYFYLBYAFl9aZrFYCAoKcl5QBYgSfhERERFxqMjIyPRpPED69J7IyEgnR1YwKOEXEREREYeyWq1ER0cTHByMt7c3wcHB2Gw2unTp4uzQCgSXSfhfeeUVLBYLQ4YMSV+WkpLCwIEDKVOmDL6+voSFhXHkyBHnBSkiIiIi18VqtbJjxw7OnDnDjh07lOznIZdI+Ldt28bbb79NcHBwpuVDhw7ls88+Y8mSJWzYsIGEhASsVquTohQRERERyX+cnvCfOnWKnj178s4771CqVKn05UlJScydO5cpU6bQsmVLGjZsyLx58/jmm2/49ttvnRixiIiIiEj+4fSEf+DAgbRr147WrVtnWr59+3bOnz+faXnNmjWpXLkyW7ZsyXZ7Z8+eJTk5OdNDRERERKSgKuzMD1+8eDE//PAD27Ztu+K1xMREvLy8KFmyZKbl5cuXJzExMdttTpw4kaioqNwOVUREREQkX3LaCP/BgwcZPHgwCxcuxNvbO9e2O3LkSJKSktIfBw8ezLVti4iIiIjkN05L+Ldv387Ro0dp0KABhQsXpnDhwmzYsIHp06dTuHBhypcvz7lz5zhx4kSm9x05cgR/f/9st1ukSBH8/PwyPURERERECiqnTelp1aoVsbGxmZY98sgj1KxZk+eff55KlSrh6enJ2rVrCQsLAyAuLo4DBw7QpEkTZ4QsIiIiIpLvOC3hL168OLfddlumZcWKFaNMmTLpy/v168ewYcMoXbo0fn5+PP300zRp0oQ777zTGSGLiIiIiOQ7Tr1p91qmTp2Kh4cHYWFhnD17ljZt2jBz5kxnhyUiIiIikm9YDMMwnB2EIyUnJ1OiRAmSkpI0n19ERERE3II9Oa7T6/CLiIiIiIjjKOEXEREREXFjSvhFRERERNyYEn4RERERETemhF9ERERExI25dFnO3JBWhCg5OdnJkYiIiIiI5I603DYnBTfdPuE/efIkAJUqVXJyJCIiIiIiuevkyZOUKFHiquu4fR3+1NRUEhISKF68OBaLxdnh5Lrk5GQqVarEwYMH1WdAcp2uL3E0XWPiSLq+xNGceY0ZhsHJkyepUKECHh5Xn6Xv9iP8Hh4e3Hzzzc4Ow+H8/Pz0j5k4jK4vcTRdY+JIur7E0Zx1jV1rZD+NbtoVEREREXFjSvhFRERERNyYEv58rkiRIkRGRlKkSBFnhyJuSNeXOJquMXEkXV/iaPnlGnP7m3ZFRERERAoyjfCLiIiIiLgxJfwiIiIiIm5MCb+IiIiIiBtTwi8iIiIi4saU8OdTY8aMwWKxZHrUrFnT2WGJG/nzzz956KGHKFOmDD4+PtStW5fvv//e2WGJm6hateoV/4ZZLBYGDhzo7NDEDVy8eJFRo0ZRrVo1fHx8qFGjBuPGjUN1SiS3nDx5kiFDhlClShV8fHy466672LZtm7PDypbbd9p1Z3Xq1GHNmjXp/124sE6n5I7jx4/TtGlT7rnnHr744gvKli3L3r17KVWqlLNDEzexbds2Ll68mP7fP//8M/feey/h4eFOjErcxauvvsqsWbNYsGABderU4fvvv+eRRx6hRIkSDBo0yNnhiRt49NFH+fnnn/nggw+oUKECH374Ia1bt2bXrl1UrFjR2eFdQWU586kxY8awbNkyduzY4exQxA2NGDGCzZs3s3HjRmeHIgXEkCFDWLFiBXv37sVisTg7HMnn2rdvT/ny5Zk7d276srCwMHx8fPjwww+dGJm4gzNnzlC8eHE+/fRT2rVrl768YcOGtG3blpdfftmJ0WVNU3rysb1791KhQgWqV69Oz549OXDggLNDEjexfPlyGjVqRHh4OOXKlaN+/fq88847zg5L3NS5c+f48MMP6du3r5J9yRV33XUXa9euJT4+HoCdO3eyadMm2rZt6+TIxB1cuHCBixcv4u3tnWm5j48PmzZtclJUV6eEP59q3Lgx8+fPZ9WqVcyaNYt9+/bRvHlzTp486ezQxA38/vvvzJo1i1tvvZUvv/ySJ554gkGDBrFgwQJnhyZuaNmyZZw4cYI+ffo4OxRxEyNGjKB79+7UrFkTT09P6tevz5AhQ+jZs6ezQxM3ULx4cZo0acK4ceNISEjg4sWLfPjhh2zZsoXDhw87O7wsaUqPmzhx4gRVqlRhypQp9OvXz9nhSD7n5eVFo0aN+Oabb9KXDRo0iG3btrFlyxYnRibuqE2bNnh5efHZZ585OxRxE4sXL2b48OFMmjSJOnXqsGPHDoYMGcKUKVPo3bu3s8MTN/Dbb7/Rt29fvv76awoVKkSDBg0IDAxk+/bt7N6929nhXUF3ebqJkiVLEhgYyK+//ursUMQNBAQEULt27UzLatWqRXR0tJMiEne1f/9+1qxZg81mc3Yo4kaGDx+ePsoPULduXfbv38/EiROV8EuuqFGjBhs2bOD06dMkJycTEBBAt27dqF69urNDy5Km9LiJU6dO8dtvvxEQEODsUMQNNG3alLi4uEzL4uPjqVKlipMiEnc1b948ypUrl+nGN5Eb9e+//+LhkTnFKVSoEKmpqU6KSNxVsWLFCAgI4Pjx43z55Zd06tTJ2SFlSSP8+dSzzz5Lhw4dqFKlCgkJCURGRlKoUCEiIiKcHZq4gaFDh3LXXXcxYcIEHnzwQbZu3cqcOXOYM2eOs0MTN5Kamsq8efPo3bu3ygpLrurQoQPjx4+ncuXK1KlThx9//JEpU6bQt29fZ4cmbuLLL7/EMAyCgoL49ddfGT58ODVr1uSRRx5xdmhZ0hz+fKp79+58/fXX/P3335QtW5ZmzZoxfvx4atSo4ezQxE2sWLGCkSNHsnfvXqpVq8awYcN47LHHnB2WuJGvvvqKNm3aEBcXR2BgoLPDETdy8uRJRo0axSeffMLRo0epUKECERERjB49Gi8vL2eHJ27g448/ZuTIkRw6dIjSpUsTFhbG+PHjKVGihLNDy5ISfhERERERN6Y5/CIiIiIibkwJv4iIiIiIG1PCLyIiIiLixpTwi4iIiIi4MSX8IiIiIiJuTAm/iIiIiIgbU8IvIiIiIuLGlPCLiLi50NBQhgwZckPbiImJwWKxcOLEiet6f9WqVZk2bdoNxSAiItdHCb+IiIiIiBtTwi8iIiIi4saU8IuIuJHTp0/Tq1cvfH19CQgIYPLkyVes88EHH9CoUSOKFy+Ov78/PXr04OjRo5nW+fzzzwkMDMTHx4d77rmHP/7446qfaxgGY8aMoXLlyhQpUoQKFSowaNCgbNc/ceIEjz76KGXLlsXPz4+WLVuyc+fOTOt8+umnNGjQAG9vb6pXr05UVBQXLlxIf91isTBr1izatm2Lj48P1atXZ+nSpTk4SiIiBYsSfhERNzJ8+HA2bNjAp59+yldffUVMTAw//PBDpnXOnz/PuHHj2LlzJ8uWLeOPP/6gT58+6a8fPHgQq9VKhw4d2LFjB48++igjRoy46udGR0czdepU3n77bfbu3cuyZcuoW7dutuuHh4dz9OhRvvjiC7Zv306DBg1o1aoV//zzDwAbN26kV69eDB48mF27dvH2228zf/58xo8fn2k7o0aNIiwsjJ07d9KzZ0+6d+/O7t277TxqIiJuzhAREbdw8uRJw8vLy/j444/Tl/3999+Gj4+PMXjw4Gzft23bNgMwTp48aRiGYYwcOdKoXbt2pnWef/55AzCOHz+e5TYmT55sBAYGGufOncvy9SpVqhhTp041DMMwNm7caPj5+RkpKSmZ1qlRo4bx9ttvG4ZhGK1atTImTJiQ6fUPPvjACAgISP9vwBgwYECmdRo3bmw88cQT2e6riEhBpBF+ERE38dtvv3Hu3DkaN26cvqx06dIEBQVlWm/79u106NCBypUrU7x4cVq0aAHAgQMHANi9e3embQA0adLkqp8dHh7OmTNnqF69Oo899hiffPJJpuk3Ge3cuZNTp05RpkwZfH190x/79u3jt99+S19n7NixmV5/7LHHOHz4MP/++2+2cTVp0kQj/CIilyns7ABERCTvnD59mjZt2tCmTRsWLlxI2bJlOXDgAG3atOHcuXPXvd1KlSoRFxfHmjVrWL16NU8++SSTJk1iw4YNeHp6Zlr31KlTBAQEEBMTc8V2SpYsmb5OVFQUVqv1inW8vb2vO04RkYJICb+IiJuoUaMGnp6efPfdd1SuXBmA48ePEx8fnz6Kv2fPHv7++29eeeUVKlWqBMD333+faTu1atVi+fLlmZZ9++231/x8Hx8fOnToQIcOHRg4cCA1a9YkNjaWBg0aZFqvQYMGJCYmUrhwYapWrZrltho0aEBcXBy33HLLVT/z22+/pVevXpn+u379+teMVUSkIFHCLyLiJnx9fenXrx/Dhw+nTJkylCtXjhdffBEPj/9mb1auXBkvLy9mzJjBgAED+Pnnnxk3blym7QwYMIDJkyczfPhwHn30UbZv3878+fOv+tnz58/n4sWLNG7cmKJFi/Lhhx/i4+NDlSpVrli3devWNGnShM6dO/Paa68RGBhIQkICK1eupEuXLjRq1IjRo0fTvn17KleuTNeuXfHw8GDnzp38/PPPvPzyy+nbWrJkCY0aNaJZs2YsXLiQrVu3Mnfu3Bs7kCIibkZz+EVE3MikSZNo3rw5HTp0oHXr1jRr1oyGDRumv162bFnmz5/PkiVLqF27Nq+88gqvv/56pm1UrlyZ6Oholi1bRkhICLNnz2bChAlX/dySJUvyzjvv0LRpU4KDg1mzZg2fffYZZcqUuWJdi8XC559/zt13380jjzxCYGAg3bt3Z//+/ZQvXx6ANm3asGLFCr766ituv/127rzzTqZOnXrFF4ioqCgWL15McHAw77//PosWLaJ27drXe/hERNySxTAMw9lBiIiI2MtisfDJJ5/QuXNnZ4ciIuLSNMIvIiIiIuLGlPCLiIiIiLgx3bQrIiL5kmakiojkjEb4RURERETcmBJ+ERERERE3poRfRERERMSNKeEXEREREXFjSvhFRERERNyYEn4RERERETemhF9ERERExI0p4RcRERERcWNK+EVERERE3Nj/ATSczFVTdVcEAAAAAElFTkSuQmCC\n"
                },
                "metadata": {}
              }
            ]
          }
        },
        "6f89474f8e6d4bc5ab9e4199c1ab14dc": {
          "model_module": "@jupyter-widgets/base",
          "model_name": "LayoutModel",
          "model_module_version": "1.2.0",
          "state": {
            "_model_module": "@jupyter-widgets/base",
            "_model_module_version": "1.2.0",
            "_model_name": "LayoutModel",
            "_view_count": null,
            "_view_module": "@jupyter-widgets/base",
            "_view_module_version": "1.2.0",
            "_view_name": "LayoutView",
            "align_content": null,
            "align_items": null,
            "align_self": null,
            "border": null,
            "bottom": null,
            "display": null,
            "flex": null,
            "flex_flow": null,
            "grid_area": null,
            "grid_auto_columns": null,
            "grid_auto_flow": null,
            "grid_auto_rows": null,
            "grid_column": null,
            "grid_gap": null,
            "grid_row": null,
            "grid_template_areas": null,
            "grid_template_columns": null,
            "grid_template_rows": null,
            "height": null,
            "justify_content": null,
            "justify_items": null,
            "left": null,
            "margin": null,
            "max_height": null,
            "max_width": null,
            "min_height": null,
            "min_width": null,
            "object_fit": null,
            "object_position": null,
            "order": null,
            "overflow": null,
            "overflow_x": null,
            "overflow_y": null,
            "padding": null,
            "right": null,
            "top": null,
            "visibility": null,
            "width": null
          }
        },
        "370f6ebfe2b2466182649c7011d4a925": {
          "model_module": "@jupyter-widgets/base",
          "model_name": "LayoutModel",
          "model_module_version": "1.2.0",
          "state": {
            "_model_module": "@jupyter-widgets/base",
            "_model_module_version": "1.2.0",
            "_model_name": "LayoutModel",
            "_view_count": null,
            "_view_module": "@jupyter-widgets/base",
            "_view_module_version": "1.2.0",
            "_view_name": "LayoutView",
            "align_content": null,
            "align_items": null,
            "align_self": null,
            "border": null,
            "bottom": null,
            "display": null,
            "flex": null,
            "flex_flow": null,
            "grid_area": null,
            "grid_auto_columns": null,
            "grid_auto_flow": null,
            "grid_auto_rows": null,
            "grid_column": null,
            "grid_gap": null,
            "grid_row": null,
            "grid_template_areas": null,
            "grid_template_columns": null,
            "grid_template_rows": null,
            "height": null,
            "justify_content": null,
            "justify_items": null,
            "left": null,
            "margin": null,
            "max_height": null,
            "max_width": null,
            "min_height": null,
            "min_width": null,
            "object_fit": null,
            "object_position": null,
            "order": null,
            "overflow": null,
            "overflow_x": null,
            "overflow_y": null,
            "padding": null,
            "right": null,
            "top": null,
            "visibility": null,
            "width": null
          }
        },
        "3e4f9decf5c045c1a2cf464a708c7907": {
          "model_module": "@jupyter-widgets/controls",
          "model_name": "SliderStyleModel",
          "model_module_version": "1.5.0",
          "state": {
            "_model_module": "@jupyter-widgets/controls",
            "_model_module_version": "1.5.0",
            "_model_name": "SliderStyleModel",
            "_view_count": null,
            "_view_module": "@jupyter-widgets/base",
            "_view_module_version": "1.2.0",
            "_view_name": "StyleView",
            "description_width": "",
            "handle_color": null
          }
        },
        "d34fc20c19c542d59f9f518917271ea5": {
          "model_module": "@jupyter-widgets/base",
          "model_name": "LayoutModel",
          "model_module_version": "1.2.0",
          "state": {
            "_model_module": "@jupyter-widgets/base",
            "_model_module_version": "1.2.0",
            "_model_name": "LayoutModel",
            "_view_count": null,
            "_view_module": "@jupyter-widgets/base",
            "_view_module_version": "1.2.0",
            "_view_name": "LayoutView",
            "align_content": null,
            "align_items": null,
            "align_self": null,
            "border": null,
            "bottom": null,
            "display": null,
            "flex": null,
            "flex_flow": null,
            "grid_area": null,
            "grid_auto_columns": null,
            "grid_auto_flow": null,
            "grid_auto_rows": null,
            "grid_column": null,
            "grid_gap": null,
            "grid_row": null,
            "grid_template_areas": null,
            "grid_template_columns": null,
            "grid_template_rows": null,
            "height": null,
            "justify_content": null,
            "justify_items": null,
            "left": null,
            "margin": null,
            "max_height": null,
            "max_width": null,
            "min_height": null,
            "min_width": null,
            "object_fit": null,
            "object_position": null,
            "order": null,
            "overflow": null,
            "overflow_x": null,
            "overflow_y": null,
            "padding": null,
            "right": null,
            "top": null,
            "visibility": null,
            "width": null
          }
        },
        "69069630d0dc42c8ae2769de78e6d1cd": {
          "model_module": "@jupyter-widgets/controls",
          "model_name": "SliderStyleModel",
          "model_module_version": "1.5.0",
          "state": {
            "_model_module": "@jupyter-widgets/controls",
            "_model_module_version": "1.5.0",
            "_model_name": "SliderStyleModel",
            "_view_count": null,
            "_view_module": "@jupyter-widgets/base",
            "_view_module_version": "1.2.0",
            "_view_name": "StyleView",
            "description_width": "",
            "handle_color": null
          }
        },
        "74838cacc9b547fcab5abbbf3f057e9e": {
          "model_module": "@jupyter-widgets/base",
          "model_name": "LayoutModel",
          "model_module_version": "1.2.0",
          "state": {
            "_model_module": "@jupyter-widgets/base",
            "_model_module_version": "1.2.0",
            "_model_name": "LayoutModel",
            "_view_count": null,
            "_view_module": "@jupyter-widgets/base",
            "_view_module_version": "1.2.0",
            "_view_name": "LayoutView",
            "align_content": null,
            "align_items": null,
            "align_self": null,
            "border": null,
            "bottom": null,
            "display": null,
            "flex": null,
            "flex_flow": null,
            "grid_area": null,
            "grid_auto_columns": null,
            "grid_auto_flow": null,
            "grid_auto_rows": null,
            "grid_column": null,
            "grid_gap": null,
            "grid_row": null,
            "grid_template_areas": null,
            "grid_template_columns": null,
            "grid_template_rows": null,
            "height": null,
            "justify_content": null,
            "justify_items": null,
            "left": null,
            "margin": null,
            "max_height": null,
            "max_width": null,
            "min_height": null,
            "min_width": null,
            "object_fit": null,
            "object_position": null,
            "order": null,
            "overflow": null,
            "overflow_x": null,
            "overflow_y": null,
            "padding": null,
            "right": null,
            "top": null,
            "visibility": null,
            "width": null
          }
        }
      }
    }
  },
  "nbformat": 4,
  "nbformat_minor": 0
}